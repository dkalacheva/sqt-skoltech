{
 "cells": [
  {
   "cell_type": "code",
   "execution_count": null,
   "metadata": {},
   "outputs": [],
   "source": [
    "import numpy as np\n",
    "import pylab as plt\n",
    "import qutip"
   ]
  },
  {
   "cell_type": "markdown",
   "metadata": {},
   "source": [
    "## HW2 Introduction to Circuit Quantum Electrodynamics (15 points)"
   ]
  },
  {
   "cell_type": "markdown",
   "metadata": {},
   "source": [
    "### Part 3. Josephson qubit circuit: RF-SQUID qubit"
   ]
  },
  {
   "cell_type": "markdown",
   "metadata": {},
   "source": [
    "We model an rf-SQUID as a Resistively and Capacitively Shunted Josephson Junction (RCSJ-model) coupled to the superconducting loop inductance.\n",
    "\n",
    "<img width=\"250px\" height=\"250px\" src=\"rf.png\"></img>\n",
    "\n",
    "In our case R is equal to infinity. Instead of using a gate capacitor to adjust the hamiltonian, the RF-SQUID uses magentic flux through the loop. Its potential energy can be written as:<br><br>\n",
    "$$U(\\varphi) = - E_J \\cos \\varphi + \\frac12 E_L (\\varphi_\\text{ext} - \\varphi)^2.$$<br>"
   ]
  },
  {
   "cell_type": "markdown",
   "metadata": {},
   "source": [
    "<b>Problem 3.1 (2.0 points)</b> Plot the flux part of the RF-SQUID qubit potential as a function of $\\varphi$ for $E_J = 100$, $E_L = 1$ and $\\varphi_\\text{ext} = 0$. "
   ]
  },
  {
   "cell_type": "code",
   "execution_count": null,
   "metadata": {},
   "outputs": [],
   "source": [
    "def RFPotential(phi, Ej, El):\n",
    "    \"\"\"Returns RF-SQUID qubit potential\n",
    "    \n",
    "    Args:\n",
    "        phi (obj): list of reduced flux through the loop.\n",
    "        Ej (float): qubit parameter.\n",
    "        El (float): qubit parameter.\n",
    "        \n",
    "    Returns:\n",
    "        obj: list of RF-SQUID qubit potential\n",
    "             in the flux basis.\n",
    "\n",
    "    \"\"\"\n",
    "    \n",
    "    return # your code here"
   ]
  },
  {
   "cell_type": "code",
   "execution_count": null,
   "metadata": {},
   "outputs": [],
   "source": [
    "def PlotRFPotential(phi, U):\n",
    "    \"\"\"Plots the potential\n",
    "    \n",
    "    Args:\n",
    "        phi (obj): list of reduced flux through the loop.\n",
    "        U (obj): list of RF-SQUID qubit potential\n",
    "                 in the flux basis.\n",
    "\n",
    "    \"\"\"\n",
    "    \n",
    "    plt.xlabel(r\"$\\varphi_{ext}$\", fontsize=12)\n",
    "    plt.ylabel(r\"$U$\", fontsize=12);\n",
    "    \n",
    "    # your code here"
   ]
  },
  {
   "cell_type": "code",
   "execution_count": null,
   "metadata": {},
   "outputs": [],
   "source": [
    "phi = np.linspace(-20, 20, 100)\n",
    "U = RFPotential(phi, Ej = 100, El = 1)\n",
    "PlotRFPotential(phi, U)"
   ]
  },
  {
   "cell_type": "markdown",
   "metadata": {},
   "source": [
    "As in part 1, we define $\\varphi$ and $n$ as the operators. Additionally, using the established analogy with mechanical harmonic oscillator, we can also write the $\\hat{n}$ operator in the phase (reduced flux) basis:\n",
    "$$\\hat{n} = - i\\frac{\\partial}{\\partial \\varphi}.$$\n",
    "It results in the following Hamiltonian, written in the phase basis:<br><br>\n",
    "$$\\mathcal{\\hat{H}} = -E_C \\frac{\\partial^2}{\\partial\\varphi^2} - E_J\\cos\\varphi + \\frac12 E_L(\\varphi_\\text{ext} - \\varphi)^2$$<br>"
   ]
  },
  {
   "cell_type": "markdown",
   "metadata": {},
   "source": [
    "<b>Problem 3.2 (5.0 points)</b> Plot the energy levels as a function of $\\varphi_{ext}$ for $E_C = 5$, $E_J = 100$ and $E_L = 1$."
   ]
  },
  {
   "cell_type": "code",
   "execution_count": null,
   "metadata": {},
   "outputs": [],
   "source": [
    "def RFSQUIDQubit(phi_ext, Ec, Ej, El, bound = 20*np.pi, N = 500):\n",
    "    \"\"\"Returns RF-SQUID qubit Hamiltonian\n",
    "    \n",
    "    Args:\n",
    "        phi_ext (float): .\n",
    "        Ec (float): qubit parameter.\n",
    "        Ej (float): qubit parameter.\n",
    "        El (float): qubit parameter.\n",
    "        bound (float): boundaries in which we vary phi.\n",
    "        N (int): defines Hamiltonian shape as (N, N).\n",
    "        \n",
    "    Returns:\n",
    "        obj: matrix of RF-SQUID qubit hamiltonian\n",
    "             in the phase basis.\n",
    "\n",
    "    \"\"\"\n",
    "    \n",
    "    H = # your code here\n",
    "\n",
    "    return H"
   ]
  },
  {
   "cell_type": "code",
   "execution_count": null,
   "metadata": {},
   "outputs": [],
   "source": [
    "def PlotRFSQUIDQVals(phi_ext, eigenstates, nfirst = 10):\n",
    "    \"\"\"Plots the energy spectrum\n",
    "    \n",
    "    Args:\n",
    "        phi_ext (float): qubit parameter.\n",
    "        eigenstates (obj): qubit eigenstates.\n",
    "        nfirst (int): number of energy levels to plot.\n",
    "\n",
    "    \"\"\"\n",
    "    \n",
    "    plt.xlabel(r\"External flux, $\\varphi_{ext}$\", fontsize=12)\n",
    "    plt.ylabel(r\"Energy difference, $\\Delta E$\", fontsize=12)\n",
    "    \n",
    "    # your code here"
   ]
  },
  {
   "cell_type": "code",
   "execution_count": null,
   "metadata": {},
   "outputs": [],
   "source": [
    "phi_ext = np.linspace(0*np.pi, 2*np.pi, 100)\n",
    "eigenstates = # your code here"
   ]
  },
  {
   "cell_type": "code",
   "execution_count": null,
   "metadata": {},
   "outputs": [],
   "source": [
    "PlotRFSQUIDQVals(phi_ext, eigenstates)"
   ]
  },
  {
   "cell_type": "markdown",
   "metadata": {},
   "source": [
    "### Part 4. Josephson qubit circuit: Flux qubit"
   ]
  },
  {
   "cell_type": "markdown",
   "metadata": {},
   "source": [
    "A flux qubit is a superconducting circuit with three or more Josephson junctions. In this homework we consider the three-junction version of this qubit, in which two of the junctions are identical, and the third junction is smaller in area by a factor of $\\alpha$. The loop is also influenced by the external magnetic flux $\\varphi_\\text{ext}$."
   ]
  },
  {
   "cell_type": "markdown",
   "metadata": {},
   "source": [
    "<img width=\"250px\" height=\"250px\" src=\"flux.png\"></img>"
   ]
  },
  {
   "cell_type": "markdown",
   "metadata": {},
   "source": [
    "In the flux basis, the three-junction flux-qubit Hamiltonian is<br><br>\n",
    "$$\\mathcal{\\hat{H}} = \\frac{(2e)^2}{2}\\vec{n}C^{-1}\\vec{n} + E_J(2 + \\alpha - \\cos\\varphi_{01} - \\cos\\varphi_{20} - \\alpha\\cos(\\varphi_{ext} - \\varphi_{01} - \\varphi_{20}).$$<br>\n",
    "Here $\\vec{n}C^{-1}\\vec{n}$ means\n",
    "$$\\begin{pmatrix}n_1&n_2\\end{pmatrix}{\\begin{pmatrix}C_{01}+C_{12}&-C_{12}\\\\-C_{12}&C_{02}+C_{12}\\end{pmatrix}}^{-1}\\begin{pmatrix}n_1\\\\n_2\\end{pmatrix},$$<br>\n",
    "where $n_1$ and $n_2$ denote charges in the islands $1$ and $2$.\n",
    "The operators $\\cos\\hat{\\varphi}_{01}$, $\\cos\\hat{\\varphi}_{20}$ and $\\cos(\\varphi_{ext} - \\hat{\\varphi}_{01} - \\hat{\\varphi}_{20})$ have a simple representation in the charge basis (you don't need to show it):<br><br>\n",
    "$$\\cos\\hat{\\varphi}_{01} = \\frac12 \\sum_{n_1} |n_1\\rangle \\langle n_1-1| + |n_1-1\\rangle \\langle n_1|$$\n",
    "$$\\cos\\hat{\\varphi}_{20} = \\frac12 \\sum_{n_2} |n_2\\rangle \\langle n_2-1| + |n_2-1\\rangle \\langle n_2|$$\n",
    "$$\\cos(\\varphi_{ext} - \\hat{\\varphi}_{01} - \\hat{\\varphi}_{20}) = \\frac12 \\sum_{n_1, n_2} (e^{i\\varphi_\\text{ext}} |n_1-1, n_2\\rangle \\langle n_1, n_2-1| + e^{-i\\varphi_\\text{ext}} |n_1, n_2-1\\rangle \\langle n_1-1, n_2|).$$"
   ]
  },
  {
   "cell_type": "markdown",
   "metadata": {},
   "source": [
    "<b>Problem 4.1 (2.0 points)</b> Plot the flux qubit potential as a function of $\\varphi_{01} = \\varphi_{20}$ for $\\alpha = 0.1$, $E_C = 1$, $E_J = 30$ and $\\varphi_\\text{ext} = \\pi$."
   ]
  },
  {
   "cell_type": "code",
   "execution_count": null,
   "metadata": {},
   "outputs": [],
   "source": [
    "def FluxPotential(phi1, phi2, alpha):\n",
    "    \"\"\"Returns flux qubit potential\n",
    "    \n",
    "    Args:\n",
    "        phi1 (obj): list of reduced flux parameter 1.\n",
    "        phi2 (obj): list of reduced flux parameter 2.\n",
    "        alpha (float): asymmetry parameter.\n",
    "        \n",
    "    Returns:\n",
    "        obj: list of flux qubit potential\n",
    "             in the flux basis\n",
    "\n",
    "    \"\"\"\n",
    "    \n",
    "    phi_ext = np.pi\n",
    "    \n",
    "    return # your code here"
   ]
  },
  {
   "cell_type": "code",
   "execution_count": null,
   "metadata": {},
   "outputs": [],
   "source": [
    "def PlotFluxPotential(phi1, U):\n",
    "    \"\"\"Plots the potential\n",
    "    \n",
    "    Args:\n",
    "        phi1 (obj): list of reduced flux through the loop.\n",
    "        U (obj): list of flux qubit potential\n",
    "                 in the flux basis\n",
    "\n",
    "    \"\"\"\n",
    "    \n",
    "    plt.xlabel(r\"$\\varphi_{01}/2\\pi$\", fontsize=12)\n",
    "    plt.ylabel(r\"$U/E_J$\", fontsize=12);\n",
    "    \n",
    "    # your code here"
   ]
  },
  {
   "cell_type": "code",
   "execution_count": null,
   "metadata": {},
   "outputs": [],
   "source": [
    "alpha = 0.7\n",
    "phi1 = np.linspace(-2, 2, 100)\n",
    "phi2 = np.linspace(-2, 2, 100)\n",
    "U = FluxPotential(phi1, phi2, alpha)"
   ]
  },
  {
   "cell_type": "code",
   "execution_count": null,
   "metadata": {},
   "outputs": [],
   "source": [
    "PlotFluxPotential(phi1, U)"
   ]
  },
  {
   "cell_type": "markdown",
   "metadata": {},
   "source": [
    "<b>Problem 4.2 (6.0 points)</b> Plot the energy levels as a function of $\\varphi_{ext}$ for $\\alpha = 0.7$, $E_C = 1$ and $E_J = 30$."
   ]
  },
  {
   "cell_type": "code",
   "execution_count": null,
   "metadata": {},
   "outputs": [],
   "source": [
    "def FluxQubit(phi_ext, alpha, Ec, Ej, N):\n",
    "    \"\"\"Returns flux qubit Hamiltonian\n",
    "    \n",
    "    Args:\n",
    "        phi_ext (): \n",
    "        alpha (float): asymmetry parameter.\n",
    "        Ec (float): qubit parameter.\n",
    "        Ej (float): qubit parameter.\n",
    "        bound (float): phi's boundary condition. \n",
    "        N (int): defines Hamiltonian shape.\n",
    "        \n",
    "    Returns:\n",
    "        obj: matrix of flux qubit hamiltonian\n",
    "             in the phase basis\n",
    "\n",
    "    \"\"\"\n",
    "\n",
    "    H = # your code here\n",
    "    return H"
   ]
  },
  {
   "cell_type": "code",
   "execution_count": null,
   "metadata": {},
   "outputs": [],
   "source": [
    "def PlotFluxQubitVals(alpha, Ec, Ej, nfirst = 10):\n",
    "    \"\"\"Plots the energy spectrum\n",
    "    \n",
    "    Args:\n",
    "        alpha (float): asymmetry parameter.\n",
    "        Ec (float): qubit parameter.\n",
    "        Ej (float): qubit parameter.\n",
    "        nfirst (int): number of energy levels to plot.\n",
    "\n",
    "    \"\"\"\n",
    "    phi_ext = np.linspace(0.44, 0.56, 100)\n",
    "    # your code here"
   ]
  },
  {
   "cell_type": "code",
   "execution_count": null,
   "metadata": {},
   "outputs": [],
   "source": [
    "PlotFluxQubitVals(alpha = 0.7, Ec = 1, Ej = 30)"
   ]
  }
 ],
 "metadata": {
  "kernelspec": {
   "display_name": "Python 3",
   "language": "python",
   "name": "python3"
  },
  "language_info": {
   "codemirror_mode": {
    "name": "ipython",
    "version": 3
   },
   "file_extension": ".py",
   "mimetype": "text/x-python",
   "name": "python",
   "nbconvert_exporter": "python",
   "pygments_lexer": "ipython3",
   "version": "3.7.4"
  }
 },
 "nbformat": 4,
 "nbformat_minor": 2
}
