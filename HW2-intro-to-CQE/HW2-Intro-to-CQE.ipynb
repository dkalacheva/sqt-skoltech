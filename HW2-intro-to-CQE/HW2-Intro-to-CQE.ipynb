{
 "cells": [
  {
   "cell_type": "code",
   "execution_count": null,
   "metadata": {
    "init_cell": true
   },
   "outputs": [],
   "source": [
    "import numpy as np\n",
    "import pylab as plt\n",
    "import qutip as qt"
   ]
  },
  {
   "cell_type": "markdown",
   "metadata": {},
   "source": [
    "## HW2 Introduction to Circuit Quantum Electrodynamics (15 points)"
   ]
  },
  {
   "cell_type": "markdown",
   "metadata": {},
   "source": [
    "### Part 3. Josephson qubit circuit: RF-SQUID qubit"
   ]
  },
  {
   "cell_type": "markdown",
   "metadata": {},
   "source": [
    "We model an rf-SQUID as a Resistively and Capacitively Shunted Josephson Junction (RCSJ-model) coupled to the superconducting loop inductance.\n",
    "\n",
    "<img width=\"250px\" height=\"250px\" src=\"https://dl.dropboxusercontent.com/s/xnfcr4glf9h4dwq/rf.png\"></img>\n",
    "\n",
    "In our case R is equal to infinity. Instead of using a gate capacitor to adjust the hamiltonian, the RF-SQUID uses magentic flux through the loop. Its potential energy can be written as:<br><br>\n",
    "$$U(n, \\varphi) = - E_J \\cos \\varphi + \\frac12 E_L (\\varphi_\\text{ext} - \\varphi)^2.$$<br>"
   ]
  },
  {
   "cell_type": "markdown",
   "metadata": {
    "deletable": false,
    "editable": false,
    "nbgrader": {
     "cell_type": "markdown",
     "checksum": "95205de1c7b09395a455627e79ef17d8",
     "grade": false,
     "grade_id": "cell-10a415a615cc546a",
     "locked": true,
     "points": 2,
     "schema_version": 3,
     "solution": false,
     "task": true
    }
   },
   "source": [
    "<b>Problem 3.1 (2.0 points)</b> Plot the flux part of the RF-SQUID qubit potential as a function of $\\varphi$ for $E_J = 100$, $E_L = 1$ and $\\varphi_\\text{ext} = 0$. "
   ]
  },
  {
   "cell_type": "code",
   "execution_count": null,
   "metadata": {
    "deletable": false,
    "nbgrader": {
     "cell_type": "code",
     "checksum": "c07ec3ac0d1dac13c4eefecfb3ee820a",
     "grade": false,
     "grade_id": "cell-d0eab5bd6dcab112",
     "locked": false,
     "schema_version": 3,
     "solution": true,
     "task": false
    }
   },
   "outputs": [],
   "source": [
    "def RFPotential(phi, Ej, El, phi_ext=0):\n",
    "    \"\"\"Returns RF-SQUID qubit potential\n",
    "    \n",
    "    Args:\n",
    "        phi (array): list of reduced flux through the loop\n",
    "        Ej (float): qubit parameter\n",
    "        El (float): qubit parameter\n",
    "        phi_ext (float): external phase\n",
    "        \n",
    "    Returns:\n",
    "        array: list of RF-SQUID qubit potential\n",
    "               in the flux basis\n",
    "\n",
    "    \"\"\"\n",
    "    \n",
    "    # YOUR CODE HERE\n",
    "    \n",
    "    return U"
   ]
  },
  {
   "cell_type": "code",
   "execution_count": null,
   "metadata": {},
   "outputs": [],
   "source": [
    "def PlotRFPotential(phi, U):\n",
    "    \"\"\"Plots the potential\n",
    "    \n",
    "    Args:\n",
    "        phi (array): list of reduced flux through the loop\n",
    "        U (array): list of RF-SQUID qubit potential\n",
    "             in the flux basis\n",
    "\n",
    "    \"\"\"\n",
    "    \n",
    "    plt.xlabel(r\"$\\varphi_{ext}$\", fontsize=12)\n",
    "    plt.ylabel(r\"$U$\", fontsize=12);\n",
    "    plt.plot(phi, U)"
   ]
  },
  {
   "cell_type": "code",
   "execution_count": null,
   "metadata": {},
   "outputs": [],
   "source": [
    "phi = np.linspace(-20, 20, 100)\n",
    "U = RFPotential(phi, Ej=100, El=1)\n",
    "PlotRFPotential(phi, U)"
   ]
  },
  {
   "cell_type": "markdown",
   "metadata": {},
   "source": [
    "As in part 1, we promote $\\varphi$ and $n$ to the operators. Additionally, using the established analogy with mechanical harmonic oscillator, we can also write the $\\hat{n}$ operator in the phase (reduced flux) basis:\n",
    "$$\\hat{n} = - i\\frac{\\partial}{\\partial \\varphi}.$$\n",
    "It results in the following Hamiltonian, written in the phase basis:<br><br>\n",
    "$$\\mathcal{\\hat{H}} = -E_C \\frac{\\partial^2}{\\partial\\varphi^2} - E_J\\cos\\varphi + \\frac12 E_L(\\varphi_\\text{ext} - \\varphi)^2$$<br>"
   ]
  },
  {
   "cell_type": "markdown",
   "metadata": {
    "deletable": false,
    "editable": false,
    "nbgrader": {
     "cell_type": "markdown",
     "checksum": "3499ce1c5fb4c75ff6caea28ae4379fe",
     "grade": false,
     "grade_id": "cell-bb9dd53786623e11",
     "locked": true,
     "points": 5,
     "schema_version": 3,
     "solution": false,
     "task": true
    }
   },
   "source": [
    "<b>Problem 3.2 (5.0 points)</b> Plot the energy levels as a function of $\\varphi_{ext}$ for $E_C = 5$, $E_J = 100$ and $E_L = 1$."
   ]
  },
  {
   "cell_type": "code",
   "execution_count": null,
   "metadata": {
    "deletable": false,
    "nbgrader": {
     "cell_type": "code",
     "checksum": "769ccf360a91b742d25b47841e17a161",
     "grade": false,
     "grade_id": "cell-eb2df0e363f104c5",
     "locked": false,
     "schema_version": 3,
     "solution": true,
     "task": false
    }
   },
   "outputs": [],
   "source": [
    "def RFSQUIDQubit(phi_ext, Ec, Ej, El, bound=20*np.pi, N=500):\n",
    "    \"\"\"Returns RF-SQUID qubit Hamiltonian\n",
    "    \n",
    "    Args:\n",
    "        phi_ext (float): external phase\n",
    "        Ec (float): qubit parameter\n",
    "        Ej (float): qubit parameter\n",
    "        El (float): qubit parameter\n",
    "        bound (float): boundaries in which we vary phi\n",
    "        N (int): defines Hamiltonian shape as (N, N)\n",
    "        \n",
    "    Returns:\n",
    "        qobj: matrix of RF-SQUID qubit hamiltonian\n",
    "             in the phase basis\n",
    "\n",
    "    \"\"\"\n",
    "    \n",
    "    # YOUR CODE HERE\n",
    "\n",
    "    return H"
   ]
  },
  {
   "cell_type": "code",
   "execution_count": null,
   "metadata": {
    "deletable": false,
    "nbgrader": {
     "cell_type": "code",
     "checksum": "91b4811cb95de9413bc146320b83bf7e",
     "grade": false,
     "grade_id": "cell-414735106e23c905",
     "locked": false,
     "schema_version": 3,
     "solution": true,
     "task": false
    }
   },
   "outputs": [],
   "source": [
    "def PlotRFSQUIDQVals(phi_ext, eigenstates, nfirst=10):\n",
    "    \"\"\"Plots the energy spectrum\n",
    "    \n",
    "    Args:\n",
    "        phi_ext (float): qubit parameter.\n",
    "        eigenstates (obj): qubit eigenstates.\n",
    "        nfirst (int): number of energy levels to plot.\n",
    "\n",
    "    \"\"\"\n",
    "    \n",
    "    plt.xlabel(r\"External flux, $\\varphi_{ext}$\", fontsize=12)\n",
    "    plt.ylabel(r\"Energy, $E$\", fontsize=12)\n",
    "    \n",
    "    # YOUR CODE HERE"
   ]
  },
  {
   "cell_type": "code",
   "execution_count": null,
   "metadata": {},
   "outputs": [],
   "source": [
    "phi_ext = np.linspace(-2*np.pi, 2*np.pi, 100)\n",
    "eigenstates = # YOUR CODE HERE\n",
    "PlotRFSQUIDQVals(phi_ext, eigenstates)"
   ]
  },
  {
   "cell_type": "markdown",
   "metadata": {},
   "source": [
    "### Part 4. Josephson qubit circuit: Flux qubit"
   ]
  },
  {
   "cell_type": "markdown",
   "metadata": {},
   "source": [
    "A flux qubit is a superconducting circuit with three or more Josephson junctions. In this homework we consider the three-junction version of this qubit, in which two of the junctions are identical, and the third junction is smaller in area by a factor of $\\alpha$. The loop is also influenced by the external magnetic flux $\\varphi_\\text{ext}$.\n",
    "<img width=\"250px\" height=\"250px\" src=\"https://dl.dropboxusercontent.com/s/d7mkapdp94mvp0z/flux_g.png\"></img>"
   ]
  },
  {
   "cell_type": "markdown",
   "metadata": {},
   "source": [
    "The three-junction flux-qubit Hamiltonian is<br><br>\n",
    "$$\\mathcal{\\hat{H}} = \\frac{(2e)^2}{2}\\vec{n}C^{-1}\\vec{n} - (E_J)_{01} \\cos\\hat{\\varphi}_{01} - (E_J)_{02} \\cos\\hat{\\varphi}_{20} - (E_J)_{12} \\cos(\\varphi_{ext} - \\hat{\\varphi}_{01} - \\hat{\\varphi}_{20})$$\n",
    "Here $\\vec{n}C^{-1}\\vec{n}$ means\n",
    "$$\\begin{pmatrix}n_1&n_2\\end{pmatrix}{\\begin{pmatrix}C_{01}+C_{12}&-C_{12}\\\\-C_{12}&C_{02}+C_{12}\\end{pmatrix}}^{-1}\\begin{pmatrix}n_1\\\\n_2\\end{pmatrix},$$<br>\n",
    "where $n_1$ and $n_2$ denote charges in the islands $1$ and $2$.\n",
    "The operators $\\cos\\hat{\\varphi}_{01}$, $\\cos\\hat{\\varphi}_{20}$ and $\\cos(\\varphi_{ext} - \\hat{\\varphi}_{01} - \\hat{\\varphi}_{20})$ have a simple representation in the charge basis (you don't need to show it):<br><br>\n",
    "$$\\cos\\hat{\\varphi}_{01} = \\frac12 \\sum_{n_1} |n_1\\rangle \\langle n_1-1| + |n_1-1\\rangle \\langle n_1|$$\n",
    "$$\\cos\\hat{\\varphi}_{20} = \\frac12 \\sum_{n_2} |n_2\\rangle \\langle n_2-1| + |n_2-1\\rangle \\langle n_2|$$\n",
    "$$\\cos(\\varphi_{ext} - \\hat{\\varphi}_{01} - \\hat{\\varphi}_{20}) = \\frac12 \\sum_{n_1, n_2} (e^{i\\varphi_\\text{ext}} |n_1-1, n_2\\rangle \\langle n_1, n_2-1| + e^{-i\\varphi_\\text{ext}} |n_1, n_2-1\\rangle \\langle n_1-1, n_2|).$$"
   ]
  },
  {
   "cell_type": "markdown",
   "metadata": {},
   "source": [
    "In this task we will consider $C_{01} = C_{02} = C$, $C_{12} = \\alpha C$, $(E_J)_{01} = (E_J)_{02} = E_J$, $(E_J)_{12} = \\alpha E_J$ (this is a standart setup for flux qubit). We will also denote $E_C = 2e^2/C$, as it was in the previous homework."
   ]
  },
  {
   "cell_type": "markdown",
   "metadata": {
    "deletable": false,
    "editable": false,
    "nbgrader": {
     "cell_type": "markdown",
     "checksum": "1e2d348c5a9e81f5e85ff18c4f5f2eb2",
     "grade": false,
     "grade_id": "cell-7bf5de8a3f48ede3",
     "locked": true,
     "points": 2,
     "schema_version": 3,
     "solution": false,
     "task": true
    }
   },
   "source": [
    "<b>Problem 4.1 (2.0 points)</b> Plot the flux qubit potential as a function of $\\varphi_{01} = \\varphi_{20}$ for $\\alpha = 0.7$ and $\\varphi_\\text{ext} = \\pi$."
   ]
  },
  {
   "cell_type": "code",
   "execution_count": null,
   "metadata": {
    "deletable": false,
    "nbgrader": {
     "cell_type": "code",
     "checksum": "7ce4ff9eb10ee4092908a2e853964e86",
     "grade": false,
     "grade_id": "cell-d3905c399d365429",
     "locked": false,
     "schema_version": 3,
     "solution": true,
     "task": false
    }
   },
   "outputs": [],
   "source": [
    "def FluxPotential(phi1, phi2, alpha, phi_ext=np.pi):\n",
    "    \"\"\"Returns flux qubit potential\n",
    "    \n",
    "    Args:\n",
    "        phi1 (array): list of reduced flux parameter 1.\n",
    "        phi2 (array): list of reduced flux parameter 2.\n",
    "        alpha (float): asymmetry parameter.\n",
    "        \n",
    "    Returns:\n",
    "        obj: list of flux qubit potential.\n",
    "\n",
    "    \"\"\"\n",
    "    \n",
    "    # YOUR CODE HERE\n",
    "    \n",
    "    return U"
   ]
  },
  {
   "cell_type": "code",
   "execution_count": null,
   "metadata": {},
   "outputs": [],
   "source": [
    "def PlotFluxPotential(phi, U):\n",
    "    \"\"\"Plots the potential\n",
    "    \n",
    "    Args:\n",
    "        phi (array): list of reduced flux through the loop.\n",
    "        U (array): list of flux qubit potential.\n",
    "\n",
    "    \"\"\"\n",
    "    \n",
    "    plt.xlabel(r\"$\\varphi_{01}/2\\pi$\", fontsize=12)\n",
    "    plt.ylabel(r\"$U/E_J$\", fontsize=12);\n",
    "    plt.plot(phi, U)"
   ]
  },
  {
   "cell_type": "code",
   "execution_count": null,
   "metadata": {},
   "outputs": [],
   "source": [
    "alpha = 0.7\n",
    "phi1 = np.linspace(-2, 2, 100)\n",
    "phi2 = np.linspace(-2, 2, 100)\n",
    "\n",
    "U = FluxPotential(phi1, phi2, alpha)\n",
    "PlotFluxPotential(phi1, U)"
   ]
  },
  {
   "cell_type": "markdown",
   "metadata": {
    "deletable": false,
    "editable": false,
    "nbgrader": {
     "cell_type": "markdown",
     "checksum": "9a5e14e3cc82c261bd114ac29667e195",
     "grade": false,
     "grade_id": "cell-cc052485b7efd1c9",
     "locked": true,
     "points": 6,
     "schema_version": 3,
     "solution": false,
     "task": true
    }
   },
   "source": [
    "<b>Problem 4.2 (6.0 points)</b> Plot the energy levels as a function of $\\varphi_{ext}$ for $\\alpha = 0.7$, $E_C = 1$ and $E_J = 30$.<br>\n",
    "<i>Hint</i>: use tensor-product states in qutip."
   ]
  },
  {
   "cell_type": "code",
   "execution_count": null,
   "metadata": {
    "deletable": false,
    "nbgrader": {
     "cell_type": "code",
     "checksum": "3962c639090961f770d86539d57fae6a",
     "grade": false,
     "grade_id": "cell-4ce1226e64aaf13c",
     "locked": false,
     "schema_version": 3,
     "solution": true,
     "task": false
    }
   },
   "outputs": [],
   "source": [
    "def FluxQubit(phi_ext, alpha, Ec, Ej, N=5):\n",
    "    \"\"\"Returns flux qubit Hamiltonian\n",
    "    \n",
    "    Args:\n",
    "        phi_ext (float): external phase\n",
    "        alpha (float): asymmetry parameter\n",
    "        Ec (float): qubit parameter\n",
    "        Ej (float): qubit parameter\n",
    "        N (int): defines Hamiltonian shape\n",
    "        \n",
    "    Returns:\n",
    "        qobj: flux qubit hamiltonian in the charge basis\n",
    "\n",
    "    \"\"\"\n",
    "\n",
    "    # YOUR CODE HERE\n",
    "    \n",
    "    return H"
   ]
  },
  {
   "cell_type": "code",
   "execution_count": null,
   "metadata": {
    "deletable": false,
    "nbgrader": {
     "cell_type": "code",
     "checksum": "16d208fbceb4c1cbb91615bebebd95af",
     "grade": false,
     "grade_id": "cell-9305dc9e7116b628",
     "locked": false,
     "schema_version": 3,
     "solution": true,
     "task": false
    }
   },
   "outputs": [],
   "source": [
    "def PlotFluxQubitVals(phi_ext, eigenstates, nfirst=10):\n",
    "    \"\"\"Plots the energy spectrum\n",
    "    \n",
    "    Args:\n",
    "        phi_ext (array): list of external phase\n",
    "        alpha (float): asymmetry parameter\n",
    "        Ec (float): qubit parameter\n",
    "        Ej (float): qubit parameter\n",
    "        nfirst (int): number of energy levels to plot\n",
    "\n",
    "    \"\"\"\n",
    "    \n",
    "    plt.xlabel(r\"$\\varphi_{ext}$\", fontsize=12)\n",
    "    plt.ylabel(r\"$E$\", fontsize=12);\n",
    "    \n",
    "    # YOUR CODE HERE"
   ]
  },
  {
   "cell_type": "code",
   "execution_count": null,
   "metadata": {},
   "outputs": [],
   "source": [
    "phi_ext = 2*np.pi*np.linspace(0.44, 0.56, 100)\n",
    "eigenstates = # YOUR CODE HERE\n",
    "PlotFluxQubitVals(phi_ext, eigenstates)"
   ]
  }
 ],
 "metadata": {
  "kernelspec": {
   "display_name": "Python 3",
   "language": "python",
   "name": "python3"
  },
  "language_info": {
   "codemirror_mode": {
    "name": "ipython",
    "version": 3
   },
   "file_extension": ".py",
   "mimetype": "text/x-python",
   "name": "python",
   "nbconvert_exporter": "python",
   "pygments_lexer": "ipython3",
   "version": "3.7.4"
  },
  "toc": {
   "base_numbering": 1,
   "nav_menu": {},
   "number_sections": true,
   "sideBar": true,
   "skip_h1_title": false,
   "title_cell": "Table of Contents",
   "title_sidebar": "Contents",
   "toc_cell": false,
   "toc_position": {},
   "toc_section_display": true,
   "toc_window_display": false
  }
 },
 "nbformat": 4,
 "nbformat_minor": 2
}
