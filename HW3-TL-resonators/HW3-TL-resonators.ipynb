{
 "cells": [
  {
   "cell_type": "markdown",
   "metadata": {},
   "source": [
    "## HW3: Transmission line resonators (15 points)"
   ]
  },
  {
   "cell_type": "code",
   "execution_count": null,
   "metadata": {},
   "outputs": [],
   "source": [
    "import numpy as np\n",
    "import pylab as plt"
   ]
  },
  {
   "cell_type": "markdown",
   "metadata": {},
   "source": [
    "Transmission line can be fought of as series of sections, each containing a resistance $R$, inductance $L$, conductance $G$ and capacitance $C$:\n",
    "<img src=\"TL_distributed_elements.png\" width=\"60%\" />\n",
    "By applying Kirchoff’s laws and taking the continuous limit, we can obtain the Telegrapher's equations:<br><br>\n",
    "$$\\frac{\\partial V(z)}{\\partial z} + (R + i\\omega L) I(z) = 0,$$<br>\n",
    "$$\\frac{\\partial I(z)}{\\partial z} + (G + i\\omega C) V(z) = 0.$$<br>\n",
    "where all values for the elements are provided per unit length.<br><br>\n",
    "We can separate the equations for $V(z)$ and $I(z)$:<br>\n",
    "$$\\frac{\\partial^2 V (z)}{\\partial z^2} -\\gamma^2 V(z) = 0,$$<br>\n",
    "$$\\frac{\\partial^2 I (z)}{\\partial z^2} -\\gamma^2 I(z) = 0,$$<br>\n",
    "where $\\gamma = \\sqrt{(R+i\\omega L)(G+i\\omega C)}$ is called a <i>complex propagation constant</i>.<br><br>\n",
    "By solving the equations, we can get that solutions are of the form:<br><br>\n",
    "$$V(z) = V_0^+ e^{-\\gamma z} + V_0^- e^{\\gamma z},$$<br>\n",
    "$$I(z) = I_0^+ e^{-\\gamma z} + I_0^- e^{\\gamma z}.$$<br>\n",
    "Plugging them back into the original equations, we can also find the following relations:<br><br>\n",
    "$$V_0^+ = Z_0 I_0^+, \\;\\;\\;\\;\\; V_0^- = -Z_0 I_0^-,$$\n",
    "where $Z_0 = \\sqrt{\\dfrac{R+i\\omega L}{G+i\\omega C}}$ is defined as a <i>characteristic impedance</i> of a line."
   ]
  },
  {
   "cell_type": "markdown",
   "metadata": {},
   "source": [
    "<b>Problem 1.1 (Power spectrum) (4.0 points)</b>\n",
    "Consider a transmisson line connected to the ideal <a href=\"https://en.wikipedia.org/wiki/Current_source\">current source</a> $I_s \\cos (\\omega t)$ from the left end and shotted at the right end:\n",
    "<img src=\"circuit_0.png\" width=\"35%\" /><br>\n",
    "Let $\\gamma = \\alpha + i\\beta$, $Z_0 = K + i\\Lambda$. Show that the time-average power, which is absorbed by the transmission line, can be expressed as:<br><br>\n",
    "$$P = \\frac{I_s^2 (K\\sinh 2\\alpha l - \\Lambda \\sin 2\\beta l)}{2(\\cosh 2\\alpha l + \\cos 2\\beta l)},$$<br>\n",
    "where $l$ is length of the line and $\\sinh$, $\\cosh$ denote hyperbolic sine and cosine respectively."
   ]
  },
  {
   "cell_type": "markdown",
   "metadata": {},
   "source": [
    "<b> Problem 1.2 (3.0 points)</b> Plot the dependence of normalized power $P/I_s^2$ on the source frequency $\\omega$ for $l = 1 \\text{m}$ and the following parameters of transmission line:\n",
    "<table style=\"width: 500px;\">\n",
    "    <tr style=\"border: 1px solid black; background-color: transparent;\"><th>$R$, $\\Omega/\\text{m}$</th><th>$L$, $\\text{H}/\\text{m}$</th><th>$G$, $\\text{S}/\\text{m}$</th><th>$C$, $\\text{F}/\\text{m}$</th></tr>\n",
    "    <tr style=\"border: 1px solid black; background-color: transparent;\"><td>$0.1$</td><td>$1$</td><td>$0.1$</td><td>$1$</td></tr>\n",
    "    <tr style=\"border: 1px solid black; background-color: transparent;\"><td>$10$</td><td>$10$</td><td>$0.1$</td><td>$1$</td></tr>\n",
    "    <tr style=\"border: 1px solid black; background-color: transparent;\"><td>$1$</td><td>$1$</td><td>$10$</td><td>$1$</td></tr>\n",
    "</table>\n",
    "<br><br><i>Hint:</i> You will need to find the expressions for $\\alpha$, $\\beta$, $K$, $\\Lambda$."
   ]
  },
  {
   "cell_type": "code",
   "execution_count": null,
   "metadata": {},
   "outputs": [],
   "source": [
    "def PowerSpectrum(omega, R, L, G, C):\n",
    "    \"\"\"Plots the power spectrum as function of frequency\n",
    "    \n",
    "    Args:\n",
    "        omega (float): source frequency\n",
    "        R, L, G, C (floats): transmission line parameters\n",
    "\n",
    "    \"\"\"\n",
    "    \n",
    "    # your code here\n",
    "    \n",
    "    return"
   ]
  },
  {
   "cell_type": "markdown",
   "metadata": {},
   "source": [
    "A <i>quality factor</i> for a resonant device can be defined as<br><br>\n",
    "$$Q = \\frac{\\omega_r}{\\Delta \\omega},$$<br>\n",
    "where $\\omega_r$ is a <i>resonant frequency</i> (in which the normalized power spectrum is at the maximum) and $\\Delta \\omega$ is a <i>resonant width</i>, which is defined as a full width at a half maximum of the curve."
   ]
  },
  {
   "cell_type": "markdown",
   "metadata": {},
   "source": [
    "<b>Problem 1.3 (Quality factor I) (2.0 points)</b> Using the power spectrum for the first transmission line from the previous problem, find its quality factor at the first resonance."
   ]
  },
  {
   "cell_type": "code",
   "execution_count": null,
   "metadata": {},
   "outputs": [],
   "source": [
    "def QualityFactor(omega, power):\n",
    "    \"\"\"Get the quality factor of transmission line\n",
    "    \n",
    "    Args:\n",
    "        omega (obj): list of frequency values\n",
    "        power (obj): list of power values\n",
    "\n",
    "    \"\"\"\n",
    "    \n",
    "    # your code here\n",
    "    \n",
    "    return"
   ]
  },
  {
   "cell_type": "code",
   "execution_count": null,
   "metadata": {},
   "outputs": [],
   "source": [
    "omega = # your code here\n",
    "p = PowerSpectrum(omega, R=0.1, L=1, G=0.1, C=1)\n",
    "print(\"Q = {}\".format(QualityFactor(omega, p)))"
   ]
  },
  {
   "cell_type": "markdown",
   "metadata": {},
   "source": [
    "Another way to define the quality factor is\n",
    "$$Q = \\omega_r \\frac{E}{P},$$<br>\n",
    "where $\\omega_r$ is a resonant frequency, $E$ is the time-average energy stored in the system and $P$ is the time-average of absorbed power at resonance. This definition is not exactly equivalent to the previous one but their numerical values are usually very close in the real-life systems. \n",
    "\n",
    "Lets examine the case of the parallel RLC circuit connected to the current source:\n",
    "<img src=\"RLC_circuit.png\" width=\"30%\" />\n",
    "\n",
    "In the resonance $\\omega_r = 1/\\sqrt{LC}$, the current through the resistance is equal to the current of the source, and the time-average energy in the capacitor is equal to the one in the inductor:\n",
    "$$\\langle E_L \\rangle = \\langle E_C \\rangle = \\frac{CU^2}{4} = \\frac{CR^2I_s^2}{4}.$$\n",
    "Therefore, the quality factor is given by:\n",
    "$$Q = \\omega_r \\frac{\\langle E_L \\rangle + \\langle E_C \\rangle}{\\frac12 I_s^2 R} = \\omega_r CR = R\\sqrt{\\frac{C}{L}}.$$"
   ]
  },
  {
   "cell_type": "markdown",
   "metadata": {},
   "source": [
    "Surprisingly, the transmission line, described in the Problem 1.2 behave like parallel RLC circuit near the resonance at the low-loss approximation ($\\omega L \\gg R$, $\\omega C \\gg G$). In order to show this, we can derive, that their impedances have the same form in the vicinity of the resonance frequency. The impedance of a parallel RLC circuit is equal to\n",
    "$$Z_\\text{in} = \\frac{1}{1/R + 1/(i\\omega L) + i\\omega C}.$$\n",
    "Let $\\omega = \\omega_r + \\delta \\omega$, where $\\delta w \\ll \\omega_r$. In this case<br><br>\n",
    "$$Z_\\text{in} = \\frac{1}{1/R + 1/(i(\\omega_r + \\delta w)L + i\\omega_r C + i\\delta \\omega C} \\approx \\frac{1}{1/R - \\dfrac{i}{\\omega_r L} \\left(1 - \\dfrac{\\delta \\omega}{\\omega_r} \\right) + i\\omega_r C + i\\delta \\omega C} = $$<br>\n",
    "$$= \\frac{1}{1/R + \\dfrac{i\\delta \\omega}{\\omega_r^2 L} + i\\delta \\omega C} = \\frac{1}{1/R + 2i\\delta \\omega C} = \\frac{R}{1 + 2iQ \\dfrac{\\delta \\omega}{\\omega_r}}.$$\n",
    "Now we need to work out the case of transmission line."
   ]
  },
  {
   "cell_type": "markdown",
   "metadata": {},
   "source": [
    "<b>Problem 1.4 (2.0 points)</b> Show that in the low-loss approximation for the transmission line descibed in the Problem 1.2, the resonance frequencies are given by<br><br>\n",
    "$$\\omega_r = \\frac{\\pi}{l \\sqrt{LC}} \\left( n + \\frac12 \\right),\\,\\,\\,n \\in \\mathbb{Z}.$$"
   ]
  },
  {
   "cell_type": "markdown",
   "metadata": {},
   "source": [
    "<b>Problem 1.5 (Quality factor II) (4.0 points)</b> Let $\\omega = \\omega_r + \\delta \\omega$, where $\\delta \\omega \\ll \\omega_r$. For the transmission line described in the Problem 1.2 in the low-loss approximation derive the expression for $Z_\\text{in}$ near the resonance and using the analogy with RLC circuit show that the quality factor is equal to<br><br>\n",
    "$$Q = \\omega_r \\left( \\frac{R}{L} + \\frac{G}{C} \\right)^{-1}.$$\n",
    "Compare your result with the problem 1.3."
   ]
  },
  {
   "cell_type": "code",
   "execution_count": null,
   "metadata": {},
   "outputs": [],
   "source": [
    "def LowLossQualityFactor(R, L, G, C):\n",
    "    \"\"\"Get the quality factor of transmission line \n",
    "        in he low-loss-approximation\n",
    "    \n",
    "    Args:\n",
    "        R, L, G, C (floats): transmission line parameters\n",
    "\n",
    "    \"\"\"\n",
    "    \n",
    "    # your code here\n",
    "    \n",
    "    return"
   ]
  },
  {
   "cell_type": "code",
   "execution_count": null,
   "metadata": {},
   "outputs": [],
   "source": [
    "print(\"Exact Q = {}\".format(QualityFactor(omega, p)))\n",
    "print(\"Low loss Q = {}\".format(LowLossQualityFactor(R=0.1, L=1, G=0.1, C=1)))"
   ]
  }
 ],
 "metadata": {
  "kernelspec": {
   "display_name": "Python 3",
   "language": "python",
   "name": "python3"
  },
  "language_info": {
   "codemirror_mode": {
    "name": "ipython",
    "version": 3
   },
   "file_extension": ".py",
   "mimetype": "text/x-python",
   "name": "python",
   "nbconvert_exporter": "python",
   "pygments_lexer": "ipython3",
   "version": "3.7.4"
  }
 },
 "nbformat": 4,
 "nbformat_minor": 4
}
