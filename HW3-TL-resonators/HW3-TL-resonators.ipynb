{
 "cells": [
  {
   "cell_type": "code",
   "execution_count": null,
   "metadata": {
    "init_cell": true
   },
   "outputs": [],
   "source": [
    "import numpy as np\n",
    "import pylab as plt"
   ]
  },
  {
   "cell_type": "markdown",
   "metadata": {},
   "source": [
    "<br><b><span style=\"font-size: 25px;\">HW3: Transmission line resonators (15 points)</span></b>"
   ]
  },
  {
   "cell_type": "markdown",
   "metadata": {},
   "source": [
    "## Part 1. Single transmission line"
   ]
  },
  {
   "cell_type": "markdown",
   "metadata": {},
   "source": [
    "Transmission line can be fought of as series of sections, each containing a resistance $R$, inductance $L$, conductance $G$ and capacitance $C$:\n",
    "<img src=\"https://dl.dropboxusercontent.com/s/9zturkzsaurze98/TL_distributed_elements.png\" width=\"60%\" />\n",
    "By applying Kirchoff’s laws and taking the continuous limit, we can obtain the Telegrapher's equations:<br><br>\n",
    "$$\\frac{\\partial V(z)}{\\partial z} + (R + i\\omega L) I(z) = 0,$$<br>\n",
    "$$\\frac{\\partial I(z)}{\\partial z} + (G + i\\omega C) V(z) = 0.$$<br>\n",
    "where all values for the elements are provided per unit length.<br><br>\n",
    "We can separate the equations for $V(z)$ and $I(z)$:<br>\n",
    "$$\\frac{\\partial^2 V (z)}{\\partial z^2} -\\gamma^2 V(z) = 0,$$<br>\n",
    "$$\\frac{\\partial^2 I (z)}{\\partial z^2} -\\gamma^2 I(z) = 0,$$<br>\n",
    "where $\\gamma = \\sqrt{(R+i\\omega L)(G+i\\omega C)}$ is called a <i>complex propagation constant</i>.<br><br>\n",
    "By solving the equations, we can get that solutions are of the form:<br><br>\n",
    "$$V(z) = V_0^+ e^{-\\gamma z} + V_0^- e^{\\gamma z},$$<br>\n",
    "$$I(z) = I_0^+ e^{-\\gamma z} + I_0^- e^{\\gamma z}.$$<br>\n",
    "Plugging them back into the original equations, we can also find the following relations:<br><br>\n",
    "$$V_0^+ = Z_0 I_0^+, \\;\\;\\;\\;\\; V_0^- = -Z_0 I_0^-,$$\n",
    "where $Z_0 = \\sqrt{\\dfrac{R+i\\omega L}{G+i\\omega C}}$ is defined as a <i>characteristic impedance</i> of a line."
   ]
  },
  {
   "cell_type": "markdown",
   "metadata": {
    "deletable": false,
    "editable": false,
    "nbgrader": {
     "cell_type": "markdown",
     "checksum": "ad301e9380401c6def6ba18cb1706e73",
     "grade": false,
     "grade_id": "cell-10179198fa0deb8a",
     "locked": true,
     "points": 1,
     "schema_version": 3,
     "solution": false,
     "task": true
    }
   },
   "source": [
    "<b>Problem 1.1 (1.0 points)</b>\n",
    "Consider a transmission line of length $l$ connected to the ideal <a href=\"https://en.wikipedia.org/wiki/Current_source\">current source</a> $I_s \\cos (\\omega t)$ from the left end and shorted at the right end:\n",
    "<img src=\"https://dl.dropboxusercontent.com/s/4s9uumxewnsuoiw/circuit_0.png\" width=\"35%\" /><br>\n",
    "Show that the impedance at the source $Z$ can be expressed as:\n",
    "$$Z = Z_0 \\frac{1-e^{-2\\gamma l}}{1 + e^{-2\\gamma l}},$$<br>\n",
    "where $l$ is length of the line and $\\sinh$, $\\cosh$ denote hyperbolic sine and cosine respectively."
   ]
  },
  {
   "cell_type": "markdown",
   "metadata": {},
   "source": [
    "<b>Solution</b>"
   ]
  },
  {
   "cell_type": "markdown",
   "metadata": {
    "deletable": false,
    "editable": false,
    "nbgrader": {
     "cell_type": "markdown",
     "checksum": "b28a71fda8786bbb99dbab0f3aa54c35",
     "grade": false,
     "grade_id": "cell-d25dafa5e6b2ecec",
     "locked": true,
     "points": 3,
     "schema_version": 3,
     "solution": false,
     "task": true
    }
   },
   "source": [
    "<b> Problem 1.2 (Spectrum) (3.0 points)</b> Let $P$ be the time-averaged power, which is absorbed by the transmission line. Plot the dependence of normalized power $P/I_s^2$ on the source frequency $\\omega$ for the following parameters of transmission line:<br>\n",
    "<table style=\"width: 500px;\">\n",
    "    <tr style=\"border: 1px solid black; background-color: transparent;\"><th>$R$, $\\Omega$</th><th>$L$, $\\text{H}$</th><th>$G$, $\\text{S}$</th><th>$C$, $\\text{F}$</th></tr>\n",
    "    <tr style=\"border: 1px solid black; background-color: transparent;\"><td>$0.1$</td><td>$1$</td><td>$0.1$</td><td>$1$</td></tr>\n",
    "    <tr style=\"border: 1px solid black; background-color: transparent;\"><td>$10$</td><td>$10$</td><td>$0.1$</td><td>$1$</td></tr>\n",
    "    <tr style=\"border: 1px solid black; background-color: transparent;\"><td>$1$</td><td>$1$</td><td>$10$</td><td>$1$</td></tr>\n",
    "</table><br>\n",
    "Note, that you may need to adjust the frequency range in order to obtain reasonable plots. Any approximations to the form of impedance are prohibited.<br>\n",
    "<i>Hint</i>: you can use <code>np.real</code> and <code>np.imag</code> functions, no need to derive formulas containing real and imaginary parts of impedance explicitly.<br>"
   ]
  },
  {
   "cell_type": "markdown",
   "metadata": {},
   "source": [
    "<b>Solution</b>"
   ]
  },
  {
   "cell_type": "code",
   "execution_count": null,
   "metadata": {},
   "outputs": [],
   "source": [
    "class TransmissionLine:\n",
    "    \"\"\"A convenient class describing transmission line\"\"\"\n",
    "    \n",
    "    def __init__(self, R, L, G, C):\n",
    "        \"\"\"\n",
    "        Args:\n",
    "            R (float): resistance of a line in Ohm\n",
    "            L (float): inductance of a line H\n",
    "            G (float): conductance of a line in S\n",
    "            C (float): capacitance of a line in F\n",
    "        \"\"\"\n",
    "        \n",
    "        self.R = R\n",
    "        self.L = L\n",
    "        self.G = G\n",
    "        self.C = C"
   ]
  },
  {
   "cell_type": "code",
   "execution_count": null,
   "metadata": {},
   "outputs": [],
   "source": [
    "# Here we create transmission lines with given parameters\n",
    "\n",
    "tl1 = TransmissionLine(R=0.1, L=1, G=0.1, C=1)\n",
    "tl2 = TransmissionLine(R=10, L=10, G=0.1, C=1)\n",
    "tl3 = TransmissionLine(R=1, L=1, G=10, C=1)"
   ]
  },
  {
   "cell_type": "code",
   "execution_count": null,
   "metadata": {
    "deletable": false,
    "nbgrader": {
     "cell_type": "code",
     "checksum": "1aae200b53741718b4d0c9eb4d07041e",
     "grade": false,
     "grade_id": "cell-b422fd1b57d4dafa",
     "locked": false,
     "schema_version": 3,
     "solution": true,
     "task": false
    }
   },
   "outputs": [],
   "source": [
    "def PowerSpectrum(omega, tl: TransmissionLine):\n",
    "    \"\"\"Gets the power spectrum of transmission line \n",
    "    as a function of frequency\n",
    "\n",
    "    Args:\n",
    "        omega (array): source frequency\n",
    "        tl (TransmissionLine): transmission line parameters\n",
    "\n",
    "    \"\"\"\n",
    "\n",
    "    # YOUR CODE HERE"
   ]
  },
  {
   "cell_type": "code",
   "execution_count": null,
   "metadata": {},
   "outputs": [],
   "source": [
    "omega = # YOUR CODE HERE\n",
    "p = PowerSpectrum(omega, tl1)\n",
    "plt.plot(omega, p);"
   ]
  },
  {
   "cell_type": "code",
   "execution_count": null,
   "metadata": {},
   "outputs": [],
   "source": [
    "omega = # YOUR CODE HERE\n",
    "p = PowerSpectrum(omega, tl2)\n",
    "plt.plot(omega, p);"
   ]
  },
  {
   "cell_type": "code",
   "execution_count": null,
   "metadata": {},
   "outputs": [],
   "source": [
    "omega = # YOUR CODE HERE\n",
    "p = PowerSpectrum(omega, tl3)\n",
    "plt.plot(omega, p);"
   ]
  },
  {
   "cell_type": "markdown",
   "metadata": {},
   "source": [
    "A <i>quality factor</i> for a resonant device can be defined as<br><br>\n",
    "$$Q = \\frac{\\omega_r}{\\Delta \\omega},$$<br>\n",
    "where $\\omega_r$ is a <i>resonant frequency</i> (in which the normalized power spectrum is at the maximum) and $\\Delta \\omega$ is a <i>resonant width</i>, which is defined as a full width at a half maximum of the curve."
   ]
  },
  {
   "cell_type": "markdown",
   "metadata": {
    "deletable": false,
    "editable": false,
    "nbgrader": {
     "cell_type": "markdown",
     "checksum": "b74f15b41118233485e2dc1c51530a6d",
     "grade": false,
     "grade_id": "cell-2f829cce064a9946",
     "locked": true,
     "points": 2,
     "schema_version": 3,
     "solution": false,
     "task": true
    }
   },
   "source": [
    "<b>Problem 1.3 (Quality factor I) (2.0 points)</b> Using the power spectrum for the first transmission line from the previous problem, find its quality factor at the first resonance."
   ]
  },
  {
   "cell_type": "code",
   "execution_count": null,
   "metadata": {
    "deletable": false,
    "nbgrader": {
     "cell_type": "code",
     "checksum": "a4ceee84c6faa9f37702cc03a514d61e",
     "grade": false,
     "grade_id": "cell-0a2429e0d6dfed6d",
     "locked": false,
     "schema_version": 3,
     "solution": true,
     "task": false
    }
   },
   "outputs": [],
   "source": [
    "def QualityFactor(omega, power):\n",
    "    \"\"\"Get the quality factor of transmission line\n",
    "    \n",
    "    Args:\n",
    "        omega (array): list of frequency values\n",
    "        power (array): list of power values\n",
    "\n",
    "    \"\"\"\n",
    "    \n",
    "    # YOUR CODE HERE"
   ]
  },
  {
   "cell_type": "code",
   "execution_count": null,
   "metadata": {},
   "outputs": [],
   "source": [
    "omega = # YOUR CODE HERE\n",
    "p = PowerSpectrum(omega, tl1)\n",
    "print(\"Q = {}\".format(QualityFactor(omega, p)))"
   ]
  },
  {
   "cell_type": "markdown",
   "metadata": {},
   "source": [
    "Another way to define the quality factor is\n",
    "$$Q = \\omega_r \\frac{E}{P},$$<br>\n",
    "where $\\omega_r$ is a resonant frequency, $E$ is the time-averaged energy stored in the system and $P$ is the time-average of absorbed power at resonance. This definition is not exactly equivalent to the previous one but their numerical values are usually very close in the real-life systems. \n",
    "\n",
    "Lets examine the case of the parallel RLC circuit connected to the current source:\n",
    "<img src=\"https://dl.dropboxusercontent.com/s/mnf0prhveawur14/RLC_circuit.png?dl=0\" width=\"30%\" />\n",
    "\n",
    "In the resonance $\\omega_r = 1/\\sqrt{LC}$, the current through the resistance is equal to the current of the source, and the time-averaged energy in the capacitor is equal to the one in the inductor:\n",
    "$$\\langle E_L \\rangle = \\langle E_C \\rangle = \\frac{CU^2}{4} = \\frac{CR^2I_s^2}{4}.$$\n",
    "Therefore, the quality factor is given by:\n",
    "$$Q = \\omega_r \\frac{\\langle E_L \\rangle + \\langle E_C \\rangle}{\\frac12 I_s^2 R} = \\omega_r CR = R\\sqrt{\\frac{C}{L}}.$$"
   ]
  },
  {
   "cell_type": "markdown",
   "metadata": {},
   "source": [
    "Surprisingly, the transmission line, described in the Problem 1.2 behaves like parallel RLC circuit near the resonance at the low-loss approximation ($\\omega L \\gg R$, $\\omega C \\gg G$). In order to show this, we can derive, that their impedances have the same form in the vicinity of the resonance frequency. The impedance of a parallel RLC circuit is equal to\n",
    "$$Z_\\text{in} = \\frac{1}{1/R + 1/(i\\omega L) + i\\omega C}.$$\n",
    "Let $\\omega = \\omega_r + \\delta \\omega$, where $\\delta w \\ll \\omega_r$. In this case<br><br>\n",
    "$$Z_\\text{in} = \\frac{1}{1/R + 1/(i(\\omega_r + \\delta w)L + i\\omega_r C + i\\delta \\omega C} \\approx \\frac{1}{1/R - \\dfrac{i}{\\omega_r L} \\left(1 - \\dfrac{\\delta \\omega}{\\omega_r} \\right) + i\\omega_r C + i\\delta \\omega C} = $$<br>\n",
    "$$= \\frac{1}{1/R + \\dfrac{i\\delta \\omega}{\\omega_r^2 L} + i\\delta \\omega C} = \\frac{1}{1/R + 2i\\delta \\omega C} = \\frac{R}{1 + 2iQ \\dfrac{\\delta \\omega}{\\omega_r}}.$$\n",
    "Now we need to work out the case of transmission line."
   ]
  },
  {
   "cell_type": "markdown",
   "metadata": {
    "deletable": false,
    "editable": false,
    "nbgrader": {
     "cell_type": "markdown",
     "checksum": "c7d1989644ae6d6006c579606ff5fd18",
     "grade": false,
     "grade_id": "cell-ef7a168aaf12820d",
     "locked": true,
     "points": 2,
     "schema_version": 3,
     "solution": false,
     "task": true
    }
   },
   "source": [
    "<b>Problem 1.4 (2.0 points)</b> Show that in the low-loss approximation for the transmission line described in the Problem 1.2, the resonance frequencies are given by<br><br>\n",
    "$$\\omega_r = \\frac{\\pi}{l \\sqrt{LC}} \\left( n + \\frac12 \\right),\\,\\,\\,n \\in \\mathbb{Z}^{\\geq 0}.$$"
   ]
  },
  {
   "cell_type": "markdown",
   "metadata": {},
   "source": [
    "<b>Solution:</b>"
   ]
  },
  {
   "cell_type": "markdown",
   "metadata": {
    "deletable": false,
    "editable": false,
    "nbgrader": {
     "cell_type": "markdown",
     "checksum": "389be2244280794f0de99088d6920c42",
     "grade": false,
     "grade_id": "cell-2548ca50825592dc",
     "locked": true,
     "points": 3,
     "schema_version": 3,
     "solution": false,
     "task": true
    }
   },
   "source": [
    "<b>Problem 1.5 (Quality factor II) (3.0 points)</b> Let $\\omega = \\omega_r + \\delta \\omega$, where $\\delta \\omega \\ll \\omega_r$. For the transmission line described in the Problem 1.2 in the low-loss approximation derive the expression for $Z_\\text{in}$ near the resonance and using the analogy with RLC circuit show that the quality factor is equal to<br><br>\n",
    "$$Q = \\omega_r \\left( \\frac{R}{L} + \\frac{G}{C} \\right)^{-1},\\,\\,\\,n \\in \\mathbb{Z}^{\\geq 0}.$$\n",
    "Compare your result with the problem 1.3."
   ]
  },
  {
   "cell_type": "markdown",
   "metadata": {},
   "source": [
    "<b>Solution:</b>"
   ]
  },
  {
   "cell_type": "code",
   "execution_count": null,
   "metadata": {
    "deletable": false,
    "nbgrader": {
     "cell_type": "code",
     "checksum": "6250d9692d75c8650be65ef921feea69",
     "grade": false,
     "grade_id": "cell-421be4da21340fcb",
     "locked": false,
     "schema_version": 3,
     "solution": true,
     "task": false
    }
   },
   "outputs": [],
   "source": [
    "def LowLossQualityFactor(tl: TransmissionLine):\n",
    "    \"\"\"Get the quality factor of transmission line \n",
    "        in the low-loss-approximation\n",
    "    \n",
    "    Args:\n",
    "       tl (TransmissionLine): transmission line parameters\n",
    "\n",
    "    \"\"\"\n",
    "    \n",
    "    # YOUR CODE HERE"
   ]
  },
  {
   "cell_type": "code",
   "execution_count": null,
   "metadata": {},
   "outputs": [],
   "source": [
    "print(\"Exact Q = {}\".format(QualityFactor(omega, p)))\n",
    "print(\"Low-loss Q = {}\".format(LowLossQualityFactor(tl1)))"
   ]
  },
  {
   "cell_type": "markdown",
   "metadata": {},
   "source": [
    "## Part 2. Resonator-feedline coupling"
   ]
  },
  {
   "cell_type": "markdown",
   "metadata": {},
   "source": [
    "In the real life systems transmission line resonators are coupled to the <i>feedline</i>, which is another transmission line. Such coupling results in easier determination of many important parameters and allows to work with several transmission line resonators simultaneously."
   ]
  },
  {
   "cell_type": "markdown",
   "metadata": {},
   "source": [
    "<table>\n",
    "    <tr style=\"background-color: transparent;\"><td><img src=\"https://dl.dropboxusercontent.com/s/lto2io0zpfvtplz/TLR.jpg\" width=\"150px\"/></td><td><img src=\"https://dl.dropboxusercontent.com/s/cz9cmfyaariq9zf/notch-port-scheme.png\" width=\"400px\"/></td></tr>\n",
    "    <tr style=\"background-color: transparent;\"><td><center>Picture of transmission line resonator coupled to the feedline</center></td><td><center>Schematic representation of the coupling</center></td></tr>\n",
    "</table>"
   ]
  },
  {
   "cell_type": "markdown",
   "metadata": {},
   "source": [
    "Such coupling is essentially a discontinuity which can be thought of as if it were two transmission lines. We will ignore the length-dependence of waves in both transmission lines. The characteristic impedance of a feedline $Z_{fl}$ is usually matched (equal) to impedances of the source and the load.\n",
    "\n",
    "From matching between the source impedance and characteristic impedance of the (first) transmission line:<br><br>\n",
    "$$V_\\text{in} = V_\\text{in}^+ + V_\\text{in}^-,\\quad Z_{fl} I_\\text{in} = V_\\text{in}^+ - V_\\text{in}^-,\\quad V_\\text{in} = V_g - Z_{fl} I_\\text{in}.$$\n",
    "Therefore,\n",
    "$$V_g = 2V_\\text{in}^+.$$\n",
    "\n",
    "From matching between the load impedance and characteristic impedance of the (second) transmission line:<br><br>\n",
    "$$V_\\text{out} = V_\\text{out}^+ + V_\\text{out}^-,\\quad Z_{fl} I_\\text{out} = V_\\text{out}^+ - V_\\text{out}^-,\\quad V_\\text{out} = Z_{fl} I_\\text{out}.$$\n",
    "Therefore,\n",
    "$$V_\\text{out}^- = 0.$$"
   ]
  },
  {
   "cell_type": "markdown",
   "metadata": {},
   "source": [
    "The $S$-parameter matrix for the 2-port network is\n",
    "$$\\begin{pmatrix}V_\\text{in}^-\\\\V_\\text{out}^+\\end{pmatrix} = \\begin{pmatrix}S_{11}&S_{12}\\\\S_{21}&S_{22}\\end{pmatrix}\\begin{pmatrix}V_\\text{in}^+\\\\V_\\text{out}^-\\end{pmatrix}$$\n",
    "\n",
    "In our case:<br><br>\n",
    "$$S_{11} = \\frac{V_\\text{in}^-}{V_\\text{in}^+} = \\frac{2V_\\text{in}}{V_g} - 1,\\qquad S_{21} = \\frac{V_\\text{out}^+}{V_\\text{in}^+} = \\frac{2V_\\text{out}}{V_g}$$<br>\n",
    "In this homework we will ignore the inductive coupling ($L_1 = 0$, $M = 0$), which leads to $V_\\text{in} = V_\\text{out}$ and $S_{11} = S_{21} - 1$."
   ]
  },
  {
   "cell_type": "markdown",
   "metadata": {
    "deletable": false,
    "editable": false,
    "nbgrader": {
     "cell_type": "markdown",
     "checksum": "714789ea1012a6be9430eddd87f9dbf4",
     "grade": false,
     "grade_id": "cell-dd294dad240f64d8",
     "locked": true,
     "points": 1.5,
     "schema_version": 3,
     "solution": false,
     "task": true
    }
   },
   "source": [
    "<b>Problem 2.1 (1.5 points)</b> Let $V$ be the voltage on a resonator. Using the Kirchhoff's equations for the circuit in terms of $V$, show that\n",
    "\n",
    "$$S_{21} = (1 + \\hat{\\epsilon}) \\left( 1 + \\frac{V}{V_g} i\\omega C_c Z_{fl} \\right),$$\n",
    "where\n",
    "$$\\hat{\\epsilon} = \\frac{-i\\omega C_c Z_{fl}}{2+i\\omega C_c Z_{fl}}$$"
   ]
  },
  {
   "cell_type": "markdown",
   "metadata": {},
   "source": [
    "<b>Solution</b>"
   ]
  },
  {
   "cell_type": "markdown",
   "metadata": {
    "deletable": false,
    "editable": false,
    "nbgrader": {
     "cell_type": "markdown",
     "checksum": "cb19a7dd4abed843b291a71bbf5c9dda",
     "grade": false,
     "grade_id": "cell-a30fbe90e2ba69f7",
     "locked": true,
     "points": 1.5,
     "schema_version": 3,
     "solution": false,
     "task": true
    }
   },
   "source": [
    "<b>Problem 2.2 (1.5 points)</b> Writing a Kirchhoff's equation for capacitively connected impedance $Z$, show that together with the previous equation it leads to\n",
    "\n",
    "$$V \\left( G_N + \\frac{1}{Z} \\right) = I_N.$$\n",
    "and express the values of the parameters $G_N$ and $I_N$."
   ]
  },
  {
   "cell_type": "markdown",
   "metadata": {},
   "source": [
    "<b>Solution</b>"
   ]
  },
  {
   "cell_type": "markdown",
   "metadata": {},
   "source": [
    "Substituting this equation into the equation for $S_{21}$ we get:\n",
    "$$S_{21} = (1+\\hat{\\epsilon}) \\left(1 + \\frac{i\\omega C_c Z_{fl} I_N}{V_g \\left( G_N + \\dfrac{1}{Z} \\right)} \\right).$$ Usually the coupling $C_c$ is sufficiently low and we have $\\omega C_c Z_{fl} \\ll 1$. It leads to $|\\epsilon| \\ll 1$ and\n",
    "\n",
    "$$\\operatorname{Re} G_N \\approx -\\frac{i\\omega C_c Z_{fl} I_N}{V_g}.$$\n",
    "Therefore, we obtain:\n",
    "$$S_{21} = 1 - \\frac{\\operatorname{Re} G_N}{G_N + \\dfrac{1}{Z}}.$$\n",
    "We can use this expression to simulate the $S_{21}$ parameter of transmission line."
   ]
  },
  {
   "cell_type": "markdown",
   "metadata": {
    "deletable": false,
    "editable": false,
    "nbgrader": {
     "cell_type": "markdown",
     "checksum": "e8583804e328f3fd342801c911d23242",
     "grade": false,
     "grade_id": "cell-c94b6a217c480a04",
     "locked": true,
     "points": 1,
     "schema_version": 3,
     "solution": false,
     "task": true
    }
   },
   "source": [
    "<b> Problem 2.3 (1.0 points)</b> Simulate the $S_{21}$ parameter for the first transmission line from the previous part with feedline parameters $Z_{fd} = 50\\text{ Ohm}$ and $C_c = 0.1\\text{ F}$. "
   ]
  },
  {
   "cell_type": "code",
   "execution_count": null,
   "metadata": {},
   "outputs": [],
   "source": [
    "class FeedLine:\n",
    "    \"\"\"A convenient class describing feedline and coupling\"\"\"\n",
    "    \n",
    "    def __init__(self, Z, C):\n",
    "        \"\"\"\n",
    "        Args:\n",
    "            Z (float): characteristic impedance of a feedline Ohm\n",
    "            C (float): coupling capacitance in F\n",
    "\n",
    "        \"\"\"\n",
    "        \n",
    "        self.Z = Z\n",
    "        self.C = C"
   ]
  },
  {
   "cell_type": "code",
   "execution_count": null,
   "metadata": {
    "deletable": false,
    "nbgrader": {
     "cell_type": "code",
     "checksum": "95ac555d3a338135a1282fd7eddca65c",
     "grade": false,
     "grade_id": "cell-36d37ce7de44fcf7",
     "locked": false,
     "schema_version": 3,
     "solution": true,
     "task": false
    }
   },
   "outputs": [],
   "source": [
    "def S21Spectrum(omega, fd: FeedLine, tl: TransmissionLine):\n",
    "    \"\"\"Get the S21 parameter of transmission line \n",
    "    \n",
    "    Args:\n",
    "       omega (array): source frequency\n",
    "       df (FeedLine): feedline parameters\n",
    "       tl (TransmissionLine): transmission line parameters\n",
    "\n",
    "    \"\"\"\n",
    "    \n",
    "    # YOUR CODE HERE"
   ]
  },
  {
   "cell_type": "code",
   "execution_count": null,
   "metadata": {},
   "outputs": [],
   "source": [
    "omega = # YOUR CODE HERE\n",
    "fd = FeedLine(Z=50, C=0.1)\n",
    "S21 = S21Spectrum(omega, fd, tl1)\n",
    "plt.figure(figsize=(12, 4))\n",
    "plt.subplot(1, 2, 1)\n",
    "plt.xlabel(\"Re $S_{21}$\", fontsize=14)\n",
    "plt.ylabel(\"Im $S_{21}$\", fontsize=14)\n",
    "plt.plot(S21.real, S21.imag)\n",
    "plt.subplot(1, 2, 2)\n",
    "plt.xlabel(\"omega\", fontsize=14)\n",
    "plt.ylabel(\"$|S_{21}|^2$\", fontsize=14)\n",
    "plt.plot(omega, np.abs(S21)**2);"
   ]
  },
  {
   "cell_type": "markdown",
   "metadata": {},
   "source": [
    "We've showed that a transmission-line resonator in a low-loss approximation near the resonance behaves simply like RLC-circuit:<br>\n",
    "\n",
    "$$\\frac{1}{Z} = \\frac{1}{i\\omega L_\\text{eff}} + i\\omega C_\\text{eff} + \\frac{1}{R_\\text{eff}}$$<br>\n",
    "\n",
    "In addition, we will denote for convenience \n",
    "$G_N = 1/R_T + i\\omega C_T.$\n",
    "\n",
    "Then we have\n",
    "$$S_{21} = 1 - \\frac{1/R_T}{1/R_T + 1/R_\\text{eff} + i\\omega(C_T + C_\\text{eff}) + 1/(i\\omega L_\\text{eff})}.$$<br>\n",
    "Near the resonance:\n",
    "$$S_{21} = 1 - \\frac{1/R_T \\left( 1/R_T + 1/R_\\text{eff} \\right)^{-1}}{1 + 2i\\omega_r (C_T+C_\\text{eff})\\left( 1/R_T + 1/R_\\text{eff} \\right)^{-1} \\dfrac{\\delta w}{w_r}}.$$"
   ]
  },
  {
   "cell_type": "markdown",
   "metadata": {},
   "source": [
    "If we denote\n",
    "$$Q_l = \\omega_r (C_T+C_\\text{eff})\\left( 1/R_T + 1/R_\\text{eff} \\right)^{-1},\\quad Q_c = \\omega_r (C_T + C_\\text{eff})R,$$\n",
    "we can obtain\n",
    "$$S_{21} = 1 - \\frac{Q_l/Q_c}{1 + 2iQ_l\\dfrac{\\delta \\omega}{\\omega_r}}.$$\n",
    "\n",
    "This explains the elliptic form which you obtained in the previous task. The quantities $Q_l$ and $Q_c$ are called loaded and coupling (external) quality factors and are useful for the description of coupled resonators. Moreover, we can check that in the case $C_T \\ll C$ the following relationship with our original quality factor $Q$ (we can also call it intrinsic or internal) holds:\n",
    "\n",
    "$$\\frac{1}{Q_l} = \\frac{1}{Q} + \\frac{1}{Q_c}.$$"
   ]
  },
  {
   "cell_type": "markdown",
   "metadata": {},
   "source": [
    "You can compare the previously obtained plot with low-loss approximation."
   ]
  },
  {
   "cell_type": "code",
   "execution_count": null,
   "metadata": {},
   "outputs": [],
   "source": [
    "def LowLossS21Spectrum(omega, omega_r, Ql, Qc):\n",
    "    \"\"\"Get the S21 parameter of transmission line \n",
    "        int the low-loss approximation\n",
    "    \n",
    "    Args:\n",
    "       omega (array): source frequency\n",
    "       omega_r (float): resonance frequency\n",
    "       Ql (float): loaded quality factor\n",
    "       Qc (float):  quality factor\n",
    "\n",
    "    \"\"\"\n",
    "    \n",
    "    return 1 - Ql/(Qc*(1 + 2*1j*Ql*(omega/omega_r - 1)))"
   ]
  },
  {
   "cell_type": "code",
   "execution_count": null,
   "metadata": {},
   "outputs": [],
   "source": [
    "omega_r = 0.5*np.pi/np.sqrt(tl1.L*tl1.C)\n",
    "Q = LowLossQualityFactor(tl1)\n",
    "Qc = 21 # we provide this value for you\n",
    "S21_lowloss = LowLossS21Spectrum(omega, omega_r, Ql=1/(1/Q + 1/Qc), Qc=Qc)\n",
    "plt.figure(figsize=(12, 4))\n",
    "plt.subplot(1, 2, 1)\n",
    "plt.xlabel(\"Re $S_{21}$\", fontsize=14)\n",
    "plt.ylabel(\"Im $S_{21}$\", fontsize=14)\n",
    "plt.plot(S21.real, S21.imag, label=\"S21 exact\")\n",
    "plt.plot(S21_lowloss.real, S21_lowloss.imag, label=\"S21 low loss\")\n",
    "plt.legend();\n",
    "plt.subplot(1, 2, 2)\n",
    "plt.xlabel(\"omega\", fontsize=14)\n",
    "plt.ylabel(\"$|S_{21}|^2$\", fontsize=14)\n",
    "plt.plot(omega, np.abs(S21)**2, label=\"S21 exact\")\n",
    "plt.plot(omega, np.abs(S21_lowloss)**2, label=\"S21 low loss\")\n",
    "plt.legend();"
   ]
  }
 ],
 "metadata": {
  "kernelspec": {
   "display_name": "Python 3",
   "language": "python",
   "name": "python3"
  },
  "language_info": {
   "codemirror_mode": {
    "name": "ipython",
    "version": 3
   },
   "file_extension": ".py",
   "mimetype": "text/x-python",
   "name": "python",
   "nbconvert_exporter": "python",
   "pygments_lexer": "ipython3",
   "version": "3.7.4"
  },
  "toc": {
   "base_numbering": 1,
   "nav_menu": {},
   "number_sections": true,
   "sideBar": true,
   "skip_h1_title": false,
   "title_cell": "Table of Contents",
   "title_sidebar": "Contents",
   "toc_cell": false,
   "toc_position": {
    "height": "calc(100% - 180px)",
    "left": "10px",
    "top": "150px",
    "width": "285px"
   },
   "toc_section_display": true,
   "toc_window_display": false
  }
 },
 "nbformat": 4,
 "nbformat_minor": 4
}
