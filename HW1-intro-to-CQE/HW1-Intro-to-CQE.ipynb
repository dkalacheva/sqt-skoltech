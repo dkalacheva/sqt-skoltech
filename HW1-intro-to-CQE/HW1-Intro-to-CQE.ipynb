{
 "cells": [
  {
   "cell_type": "code",
   "execution_count": null,
   "metadata": {
    "init_cell": true
   },
   "outputs": [],
   "source": [
    "import numpy as np\n",
    "import pylab as plt"
   ]
  },
  {
   "cell_type": "markdown",
   "metadata": {},
   "source": [
    "## HW1 Introduction to Circuit Quantum Electrodynamics (15 points)"
   ]
  },
  {
   "cell_type": "markdown",
   "metadata": {},
   "source": [
    "### Part 1. Harmonic quantum circuit"
   ]
  },
  {
   "cell_type": "markdown",
   "metadata": {},
   "source": [
    "To understand the dynamics of superconducting quantum circuits we start with the linear LC resonant circuit:\n",
    "<img src=\"https://dl.dropboxusercontent.com/s/jnaqp3xk1jjgavf/lc_circuit_schematic.jpg\" alt=\"LC circuit schematic image\" width=\"250\"></img>"
   ]
  },
  {
   "cell_type": "markdown",
   "metadata": {},
   "source": [
    "The Hamiltonian $\\mathcal{H}$ for this system can be written as\n",
    "$$\\mathcal{H} = \\frac{Q^2}{2C} + \\frac{\\Phi^2}{2L},$$<br>\n",
    "where $Q$ is the charge on the capacitor and $\\Phi$ is the magnetic flux through the inductor.\n",
    "This Hamiltonian is equivalent to that of a mechanical harmonic oscillator with mass $m$ and stiffness $k$ which expressed in position $x$ and momentum $p$. In order to describe quantum behavior of the system, we need to promote $Q$ and $\\Phi$ to operators $\\hat{Q}$ and $\\hat{P}$. The canonical commutation relationship states that $[\\hat{x}, \\hat{p}] = i\\hbar$. By using the aforementioned analogy, we can also write $[\\hat{\\Phi}, \\hat{Q}] = i\\hbar$."
   ]
  },
  {
   "cell_type": "markdown",
   "metadata": {},
   "source": [
    "In practice it is more convenient to work with the reduced flux $\\hat{\\varphi} \\equiv \\dfrac{2\\pi}{\\Phi_0} \\hat{\\Phi}$ and the reduced charge $\\hat{n} = \\dfrac{1}{2e} \\hat{Q}$, where $\\Phi_0 = \\dfrac{h}{2e}$ is the superconducting magnetic flux quantum. In this case the commutation relationship is $[\\hat{\\varphi}, \\hat{n}] = i$."
   ]
  },
  {
   "cell_type": "markdown",
   "metadata": {},
   "source": [
    "When the circuit is in a superconducting state, the current is carried by Cooper pairs, that can charge the capacitor. By using the reduced variables, the Hamiltonian (now it is an operator) can be rewritten as<br><br>\n",
    "$$\\hat{\\mathcal{H}} = E_C  \\hat{n}^2 + \\frac12 E_L \\hat{\\varphi}^2,$$<br>\n",
    "where $E_C = \\dfrac{2e^2}{C}$ is the energy required to add Cooper-pair to the capacitor and $E_L = \\dfrac{\\Phi_0^2}{4\\pi^2L}$ is the inductive energy."
   ]
  },
  {
   "cell_type": "markdown",
   "metadata": {
    "deletable": false,
    "editable": false,
    "nbgrader": {
     "cell_type": "markdown",
     "checksum": "945a952127a7ae37eefe19b637173318",
     "grade": false,
     "grade_id": "cell-406f7c0d6e5e7719",
     "locked": true,
     "points": 1,
     "schema_version": 3,
     "solution": false,
     "task": true
    }
   },
   "source": [
    "<b>Problem 1.1 (1.0 points)</b> Using the analogy with mechanical harmonic oscillator, express the ground state energy of LC circuit in terms of $E_C$ and $E_L$."
   ]
  },
  {
   "cell_type": "markdown",
   "metadata": {},
   "source": [
    "<b>Solution:</b> "
   ]
  },
  {
   "cell_type": "markdown",
   "metadata": {},
   "source": [
    "### Part 2. Josephson qubit circuit: Charge qubit"
   ]
  },
  {
   "cell_type": "markdown",
   "metadata": {},
   "source": [
    "To introduce the nonlinearity to harmonic potential we replace the inductor with the Josephson junction.\n",
    "It results in the modified Hamiltonian:<br><br>\n",
    "$$\\mathcal{\\hat{H}} = E_C \\hat{n}^2 - E_J \\cos (\\hat{\\varphi}),$$<br>\n",
    "where $E_C = \\dfrac{2e^2}{C + C_J}$, $C_J$ being the self-capacitance of the junction, and $E_J = \\dfrac{I_c \\Phi_0}{2\\pi}$ is the Josephson energy with $I_c$ being the critical current."
   ]
  },
  {
   "cell_type": "markdown",
   "metadata": {
    "deletable": false,
    "editable": false,
    "nbgrader": {
     "cell_type": "markdown",
     "checksum": "2a132f6e7e343844ca07f8e830c3a3b6",
     "grade": false,
     "grade_id": "cell-8ba89b8aca97bf48",
     "locked": true,
     "points": 1,
     "schema_version": 3,
     "solution": false,
     "task": true
    }
   },
   "source": [
    "<b>Problem 2.1 (1.0 points)</b> Find the representation of operator $\\cos(\\hat{\\varphi})$ in the basis of excess number of Cooper pairs (charge basis).<br>\n",
    "<i>Hint: </i>You can use the relationship $[e^{i\\hat{\\varphi}}, \\hat{n}] = -e^{i\\hat{\\varphi}}$."
   ]
  },
  {
   "cell_type": "markdown",
   "metadata": {},
   "source": [
    "<b>Solution:</b>"
   ]
  },
  {
   "cell_type": "markdown",
   "metadata": {},
   "source": [
    "In order to obtain numerical answers we can use <a href=\"http://qutip.org/download.html\">QuTiP</a> which is an open-source software for simulating the dynamics of open quantum systems. Install the latest version of QuTiP on your machine and check that your installation is correct. Suitable versions are 4.4.x and above."
   ]
  },
  {
   "cell_type": "code",
   "execution_count": null,
   "metadata": {
    "init_cell": true
   },
   "outputs": [],
   "source": [
    "import qutip\n",
    "print(\"QuTiP version is {}\".format(qutip.__version__))"
   ]
  },
  {
   "cell_type": "markdown",
   "metadata": {
    "deletable": false,
    "editable": false,
    "nbgrader": {
     "cell_type": "markdown",
     "checksum": "fad87216fb13eb0099fd68c03a54f422",
     "grade": false,
     "grade_id": "cell-55e61bf87d1cb1b8",
     "locked": true,
     "points": 1,
     "schema_version": 3,
     "solution": false,
     "task": true
    }
   },
   "source": [
    "<b>Problem 2.2 (1.0 points)</b> Write a function, that computes $\\mathcal{\\hat{H}}$ in the charge basis."
   ]
  },
  {
   "cell_type": "code",
   "execution_count": null,
   "metadata": {
    "deletable": false,
    "nbgrader": {
     "cell_type": "code",
     "checksum": "15928c976cff03e7b32b2622afa2ddde",
     "grade": false,
     "grade_id": "cell-8ca5369ec2a26289",
     "locked": false,
     "schema_version": 3,
     "solution": true,
     "task": false
    }
   },
   "outputs": [],
   "source": [
    "def ChargeQubit(Ec, Ej, N = 100):\n",
    "    \"\"\"Returns charge qubit Hamiltonian\n",
    "    \n",
    "    Args:\n",
    "        Ec (float): qubit parameter.\n",
    "        Ej (float): qubit parameter.\n",
    "        N (int): defines Hamiltonian shape as (2N+1, 2N+1).\n",
    "        \n",
    "    Returns:\n",
    "        qobj: charge qubit hamiltonian in the charge basis\n",
    "\n",
    "    \"\"\"\n",
    "    \n",
    "    # YOUR CODE HERE\n",
    "\n",
    "    return H"
   ]
  },
  {
   "cell_type": "markdown",
   "metadata": {
    "deletable": false,
    "editable": false,
    "nbgrader": {
     "cell_type": "markdown",
     "checksum": "8d2dd0d36b83894ecad1a551ba59dac0",
     "grade": false,
     "grade_id": "cell-35a9a9ea960e970a",
     "locked": true,
     "points": 2,
     "schema_version": 3,
     "solution": false,
     "task": true
    }
   },
   "source": [
    "<b>Problem 2.3 (2.0 points)</b> Plot the difference between energy levels as a function of the lowest energy for $E_C = 5$ and $E_J = 1$."
   ]
  },
  {
   "cell_type": "code",
   "execution_count": null,
   "metadata": {
    "deletable": false,
    "nbgrader": {
     "cell_type": "code",
     "checksum": "68ddee86200c4f6fbe111e2ac53b686f",
     "grade": false,
     "grade_id": "cell-3b91839a8dab8402",
     "locked": false,
     "schema_version": 3,
     "solution": true,
     "task": false
    }
   },
   "outputs": [],
   "source": [
    "def PlotChargeQubitDiff(vals, nfirst = 10):\n",
    "    \"\"\"Plots the energy difference as a function of energy\n",
    "    \n",
    "    Args:\n",
    "        vals (array): list of energy eigenvalues\n",
    "        nfirst (int): number of energy levels to plot\n",
    "\n",
    "    \"\"\"\n",
    "    \n",
    "    # YOUR CODE HERE"
   ]
  },
  {
   "cell_type": "code",
   "execution_count": null,
   "metadata": {},
   "outputs": [],
   "source": [
    "vals = # YOUR CODE HERE\n",
    "PlotChargeQubitDiff(vals)"
   ]
  },
  {
   "cell_type": "markdown",
   "metadata": {},
   "source": [
    "In order to control the behavior of energy levels we can introduce the gate charge $n_g$:<br><br>\n",
    "$$\\mathcal{\\hat{H}} = E_C (\\hat{n} - n_g)^2 - E_J \\cos (\\hat{\\varphi}).$$<br>"
   ]
  },
  {
   "cell_type": "markdown",
   "metadata": {
    "deletable": false,
    "editable": false,
    "nbgrader": {
     "cell_type": "markdown",
     "checksum": "a0a9ecadca65f1b4859c3f4303acc4fa",
     "grade": false,
     "grade_id": "cell-7b22217891c2e5a1",
     "locked": true,
     "points": 1,
     "schema_version": 3,
     "solution": false,
     "task": true
    }
   },
   "source": [
    "<b>Problem 2.4 (1.0 points)</b> Write a function, that computes the Hamiltonian $\\mathcal{\\hat{H}}$ with $n_g$."
   ]
  },
  {
   "cell_type": "code",
   "execution_count": null,
   "metadata": {
    "deletable": false,
    "nbgrader": {
     "cell_type": "code",
     "checksum": "0b68e9023a2f51f444e5c33d2d24c330",
     "grade": false,
     "grade_id": "cell-e23f73148adbcbe0",
     "locked": false,
     "schema_version": 3,
     "solution": true,
     "task": false
    }
   },
   "outputs": [],
   "source": [
    "def ChargeQubitNg(ng, Ec, Ej, N = 100):\n",
    "    \"\"\"Returns charge qubit Hamiltonian with ng\n",
    "    \n",
    "    Args:\n",
    "        ng (float): qubit parameter\n",
    "        Ec (float): qubit parameter\n",
    "        Ej (float): qubit parameter\n",
    "        N (int): defines Hamiltonian shape as (2N+1, 2N+1)\n",
    "        \n",
    "    Returns:\n",
    "        qobj: charge qubit hamiltonian\n",
    "             with ng in the charge basis\n",
    "             \n",
    "    \"\"\"\n",
    "    \n",
    "    # YOUR CODE HERE\n",
    "\n",
    "    return H"
   ]
  },
  {
   "cell_type": "markdown",
   "metadata": {
    "deletable": false,
    "editable": false,
    "nbgrader": {
     "cell_type": "markdown",
     "checksum": "fd00e61a07085b7eef475070b6a915a0",
     "grade": false,
     "grade_id": "cell-f0c1ce0f4a5eaae3",
     "locked": true,
     "points": 2,
     "schema_version": 3,
     "solution": false,
     "task": true
    }
   },
   "source": [
    "<b>Problem 2.5 (2.0 points)</b> Plot the energy levels as a function of $n_g$ for $E_C = 5$ and $E_J = 1$."
   ]
  },
  {
   "cell_type": "code",
   "execution_count": null,
   "metadata": {
    "deletable": false,
    "nbgrader": {
     "cell_type": "code",
     "checksum": "4e20f6859704f302b2daafa2b04ea0eb",
     "grade": false,
     "grade_id": "cell-6c6fa476673e5c4e",
     "locked": false,
     "schema_version": 3,
     "solution": true,
     "task": false
    }
   },
   "outputs": [],
   "source": [
    "def PlotChargeQubitVals(ng, eigenstates, nfirst = 5):\n",
    "    \"\"\"Plots the energy spectrum\n",
    "    \n",
    "    Args:\n",
    "        ng (float): qubit parameter\n",
    "        eigenstates (array): qubit eigenstates\n",
    "        nfirst (int): number of energy levels to plot\n",
    "\n",
    "    \"\"\"\n",
    "\n",
    "    plt.xlabel(r\"$n_g$\", fontsize=12)\n",
    "    plt.ylabel(r\"Energy, $E$\", fontsize=12)\n",
    "    \n",
    "    # YOUR CODE HERE"
   ]
  },
  {
   "cell_type": "code",
   "execution_count": null,
   "metadata": {},
   "outputs": [],
   "source": [
    "ng = np.linspace(-1, 1, 100)\n",
    "eigenstates = # YOUR CODE HERE\n",
    "PlotChargeQubitVals(ng, eigenstates)"
   ]
  },
  {
   "cell_type": "markdown",
   "metadata": {
    "deletable": false,
    "editable": false,
    "nbgrader": {
     "cell_type": "markdown",
     "checksum": "f0552949ba1f24c883596af9cadf8e00",
     "grade": false,
     "grade_id": "cell-2be2cc303a8ddc42",
     "locked": true,
     "points": 2,
     "schema_version": 3,
     "solution": false,
     "task": true
    }
   },
   "source": [
    "<b>Problem 2.6 (2.0 points)</b> Plot the average charge as a function of $n_g$."
   ]
  },
  {
   "cell_type": "code",
   "execution_count": null,
   "metadata": {
    "deletable": false,
    "nbgrader": {
     "cell_type": "code",
     "checksum": "c47db1c35e9fca7a11b1c12f7fa83cc7",
     "grade": false,
     "grade_id": "cell-534e9866121da219",
     "locked": false,
     "schema_version": 3,
     "solution": true,
     "task": false
    }
   },
   "outputs": [],
   "source": [
    "def PlotNAverage(ng, eigenstates, nfirst = 3):\n",
    "    \"\"\"Plot the average charge as function of ng\n",
    "    \n",
    "    Args:\n",
    "        ng (float): qubit parameter\n",
    "        eigenstates (array): qubit eigenstates\n",
    "        nfirst (int): number of energy levels to plot\n",
    "\n",
    "    \"\"\"\n",
    "    \n",
    "    plt.xlabel(r\"$n_g$\", fontsize=14)\n",
    "    plt.ylabel(r\"Average charge, $\\langle n \\rangle$\", fontsize=14)\n",
    "    \n",
    "    # YOUR CODE HERE"
   ]
  },
  {
   "cell_type": "code",
   "execution_count": null,
   "metadata": {},
   "outputs": [],
   "source": [
    "PlotNAverage(ng, eigenstates)"
   ]
  },
  {
   "cell_type": "markdown",
   "metadata": {},
   "source": [
    "Consider the system restricted to the first two energy levels. In the small coupling regime $E_J \\ll E_C$ we have the special regions called <i>sweet spots</i>, in which the energy difference is minimal. These regions are especially easy to work with in practical applications, because they have the smallest fluctuations of charge."
   ]
  },
  {
   "cell_type": "markdown",
   "metadata": {
    "deletable": false,
    "editable": false,
    "nbgrader": {
     "cell_type": "markdown",
     "checksum": "adf8d356b56e7c2bf1d859e6b9a99f01",
     "grade": false,
     "grade_id": "cell-8307275a4a5c4bbc",
     "locked": true,
     "points": 2,
     "schema_version": 3,
     "solution": false,
     "task": true
    }
   },
   "source": [
    "<b>Problem 2.7 (2.0 points)</b> Show that in the vicinity of sweet spot the system can be\n",
    "approximated by the following Hamiltonian:<br><br>\n",
    "$$\\hat{H} = -\\frac{\\varepsilon}{2} \\sigma_z - \\frac{E_J}{2} \\sigma_x,$$\n",
    "\n",
    "where $\\sigma_z$ and $\\sigma_x$ are Pauli matrices. What is the value of the energy shift?"
   ]
  },
  {
   "cell_type": "markdown",
   "metadata": {},
   "source": [
    "<b>Solution:</b>"
   ]
  },
  {
   "cell_type": "markdown",
   "metadata": {
    "deletable": false,
    "editable": false,
    "nbgrader": {
     "cell_type": "markdown",
     "checksum": "6951f7bf9f1f9ad565e09c2c2d3284fe",
     "grade": false,
     "grade_id": "cell-08687439432009fa",
     "locked": true,
     "points": 1.5,
     "schema_version": 3,
     "solution": false,
     "task": true
    }
   },
   "source": [
    "<b>Problem 2.8 (NOT gate) (1.5 points)</b> The $\\varepsilon$ parameter in the above Hamiltonian is connected to the gate charge and can be used to manipulate the states. In order to prepare our system in the $|0\\rangle$ charge state, we can put the system away from the sweet spot and wait for some time for the thermal equilibrium. After that, we can apply the pulse of duration $\\Delta t$, during which the system will be in the sweet spot (i.e. we will have $\\varepsilon = 0$ at this time). What should be $\\Delta t$ to implement the NOT gate, which inverts the state of a system?"
   ]
  },
  {
   "cell_type": "markdown",
   "metadata": {},
   "source": [
    "<b>Solution:</b>"
   ]
  },
  {
   "cell_type": "markdown",
   "metadata": {
    "deletable": false,
    "editable": false,
    "nbgrader": {
     "cell_type": "markdown",
     "checksum": "071b30bc0d93074630504aded9e822ee",
     "grade": false,
     "grade_id": "cell-b2d01a8baada95de",
     "locked": true,
     "points": 1.5,
     "schema_version": 3,
     "solution": false,
     "task": true
    }
   },
   "source": [
    "<b>Problem 2.9 (Decoherence) (1.5 points)</b> The main challenge in the development of quantum systems is that they are influenced by decoherence due to fluctuations of some parameters. As a simple model consider that $E_J$ has a Gaussian distribution with parameters $\\langle E_J \\rangle$ and $\\Delta E_J$. What is the probability that the system will be found in the state $|1\\rangle$ after applying the NOT gate from the previous problem?\n",
    "\n",
    "<i>Hint:</i> Find the probability for the system to be in the state $|1\\rangle$ after the time $\\Delta t$ and integrate the expression over all possible values of $E_J$. Substitute the expression for $\\Delta t$ in terms of $\\langle E_J \\rangle$."
   ]
  },
  {
   "cell_type": "markdown",
   "metadata": {},
   "source": [
    "<b>Solution:</b>"
   ]
  }
 ],
 "metadata": {
  "kernelspec": {
   "display_name": "Python 3",
   "language": "python",
   "name": "python3"
  },
  "language_info": {
   "codemirror_mode": {
    "name": "ipython",
    "version": 3
   },
   "file_extension": ".py",
   "mimetype": "text/x-python",
   "name": "python",
   "nbconvert_exporter": "python",
   "pygments_lexer": "ipython3",
   "version": "3.7.4"
  },
  "toc": {
   "base_numbering": 1,
   "nav_menu": {},
   "number_sections": true,
   "sideBar": true,
   "skip_h1_title": false,
   "title_cell": "Table of Contents",
   "title_sidebar": "Contents",
   "toc_cell": false,
   "toc_position": {},
   "toc_section_display": true,
   "toc_window_display": false
  }
 },
 "nbformat": 4,
 "nbformat_minor": 2
}
