{
 "cells": [
  {
   "cell_type": "code",
   "execution_count": null,
   "metadata": {
    "init_cell": true
   },
   "outputs": [],
   "source": [
    "import numpy as np\n",
    "import pylab as plt\n",
    "import qutip as qt\n",
    "import ipywidgets"
   ]
  },
  {
   "cell_type": "markdown",
   "metadata": {},
   "source": [
    "First we define several functions to help with plotting"
   ]
  },
  {
   "cell_type": "code",
   "execution_count": null,
   "metadata": {},
   "outputs": [],
   "source": [
    "def PlotStateDynamics(result, reference_state, *args, **kwargs):\n",
    "    \"\"\"\n",
    "    Plot the evolution of the state given \n",
    "        the result of mesolve\n",
    "    \n",
    "    Args:\n",
    "        state (qobj): state to calculate a scalar product with\n",
    "        result (obj): result object from mesolve\n",
    "\n",
    "    \"\"\"\n",
    "\n",
    "    plt.ylabel(r\"$|\\langle \\psi(t) | 0 \\rangle|^2$\", fontsize=16)\n",
    "    plt.xlabel(r'time', fontsize=16)\n",
    "    plt.plot(result.times, \n",
    "             [np.abs(reference_state.overlap(state))**2 for state in result.states],\n",
    "              *args, **kwargs)"
   ]
  },
  {
   "cell_type": "code",
   "execution_count": null,
   "metadata": {
    "init_cell": true
   },
   "outputs": [],
   "source": [
    "def PlotExpectationDynamics(result, idx=0, *args, **kwargs):\n",
    "    \"\"\"\n",
    "    Plot the evolution of the expectation value given \n",
    "        the result of mesolve\n",
    "    \n",
    "    Args:\n",
    "        result (obj): result object from mesolve\n",
    "        idx (int): index of value in result.expext\n",
    "\n",
    "    \"\"\"\n",
    "\n",
    "    plt.ylabel(r\"Charge $\\langle n \\rangle$\", fontsize=16)\n",
    "    plt.xlabel(r'time', fontsize=16)\n",
    "    plt.axhline(0, c='k');\n",
    "    plt.plot(result.times, result.expect[idx], *args, **kwargs)"
   ]
  },
  {
   "cell_type": "code",
   "execution_count": null,
   "metadata": {
    "init_cell": true
   },
   "outputs": [],
   "source": [
    "def PlotStatesDistriubtion(result, eigenstates, num=10, tick_label=None):\n",
    "    \"\"\"\n",
    "    Plot the distribution of states using the result of mesolve\n",
    "    \n",
    "    Args:\n",
    "        result (obj): result object from mesolve\n",
    "        eigenstates (array): eigenstates given by qutip\n",
    "        num: number of eigenstates to show\n",
    "\n",
    "    \"\"\"\n",
    "\n",
    "    state_numbers = np.arange(num)\n",
    "    if tick_label is None:\n",
    "        tick_label=[\"|\"+str(state)+r\"$\\rangle$\" for state in state_numbers]\n",
    "    states = np.take(eigenstates[1], state_numbers)\n",
    "    data = [[np.abs(state.overlap(result.states[idx]))**2 \n",
    "             for state in states] for idx in range(len(result.times))]\n",
    "\n",
    "    def PlotStates(time):\n",
    "        plt.bar(state_numbers, data[time], 0.5,\n",
    "               tick_label=tick_label);\n",
    "        plt.show()\n",
    "\n",
    "    interactive_plot = ipywidgets.interactive(PlotStates, time=\n",
    "                                              ipywidgets.IntSlider(0, 0, len(result.times), 1,\n",
    "                                                                   continuous_update=False))\n",
    "    output = interactive_plot.children[-1]\n",
    "    output.layout.height = '250px'\n",
    "    return interactive_plot"
   ]
  },
  {
   "cell_type": "markdown",
   "metadata": {},
   "source": [
    "<br><b><span style=\"font-size: 25px;\">HW4: Quantum computer (15 points)</span></b>"
   ]
  },
  {
   "cell_type": "markdown",
   "metadata": {},
   "source": [
    "In this homework we will work out an example of simple quantum computer, which consists of two transmons coupled to a resonator."
   ]
  },
  {
   "cell_type": "markdown",
   "metadata": {},
   "source": [
    "## Part 1. A single transmon under periodic drive"
   ]
  },
  {
   "cell_type": "markdown",
   "metadata": {},
   "source": [
    "A transmon qubit can be realised as a SQUID with a large capacitance. A SQUID is used instead of a single Josephson junction to make the energy spectrum of a qubit tunable by external magnetic flux $\\phi_\\text{ext}$ flowing through the loop. The dependence of the Josephson energy on the flux is described as\n",
    "$$E_J = (E^{(1)}_J + E^{(2)}_J) \\cos \\left( \\frac{\\phi_\\text{ext}}{2} \\right) \\sqrt{1 + d^2 \\tan^2 \\left( \\frac{\\phi_\\text{ext}}{2}\\right)},$$\n",
    "where $d = \\dfrac{E^{(1)}_J - E^{(2)}_J}{E^{(1)}_J + E^{(2)}_J}$ is assymetry coefficient. Also we can denote for convenience $E_{J\\Sigma} = E^{(1)}_J + E^{(2)}_J$. Throughout this homework we will use $\\hbar = 1$."
   ]
  },
  {
   "cell_type": "markdown",
   "metadata": {},
   "source": [
    "The transmon hamiltonian under drive is given by:\n",
    "$$\\hat{H} = \\hat{H}_\\text{tr} + \\hat{H}_d = E_C \\hat{n}^2 - E_J \\cos \\hat{\\phi} + \\alpha \\sin \\omega t \\hat{n},$$\n",
    "where $\\hat{H}_\\text{tr}$ and $\\hat{H}_\\text{d}$ are transmon and drive hamiltonians respectively."
   ]
  },
  {
   "cell_type": "code",
   "execution_count": null,
   "metadata": {},
   "outputs": [],
   "source": [
    "class Qubit:\n",
    "    \"\"\"A convenient class representing qubit and drive parameters\"\"\"\n",
    "    \n",
    "    def __init__(self, Ec, Esum, d, alpha, omega, N):\n",
    "        \"\"\"\n",
    "        Args:\n",
    "            Ec (float): qubit parameter\n",
    "            Esum (float): sum of Ej parameters in SQUID\n",
    "            d (float): assymetry coefficient of SQUID\n",
    "            alpha (float): drive amplitude\n",
    "            omega (float): drive frequency\n",
    "            N (int): number of levels in basis\n",
    "\n",
    "        \"\"\"\n",
    "\n",
    "        self.Ec = Ec\n",
    "        self.Esum = Esum\n",
    "        self.d = d\n",
    "        self.alpha = alpha\n",
    "        self.omega = omega\n",
    "        self.N = N\n",
    "        \n",
    "    def get_Ej(self, phi_ext):\n",
    "        \"\"\"\n",
    "        Args\n",
    "            phi_ext (float): external flux (phase)\n",
    "            \n",
    "        Returns:\n",
    "            Ej parameter at a given flux\n",
    "\n",
    "        \"\"\"\n",
    "\n",
    "        return self.Esum*np.cos(phi_ext/2)*np.sqrt(1 + self.d**2*np.tan(phi_ext/2)**2)\n",
    "    \n",
    "    \"\"\"We redefine several qutip operators for convenience\n",
    "       you can just use them as qubit.operator() \"\"\"\n",
    "    \n",
    "    def eye(self):\n",
    "        return qt.qeye(self.N)\n",
    "    \n",
    "    def create(self):\n",
    "        return qt.create(self.N)\n",
    "    \n",
    "    def destroy(self):\n",
    "        return qt.destroy(self.N)\n",
    "    \n",
    "    def num(self):\n",
    "        return qt.num(self.N)\n",
    "    \n",
    "    def tunneling(self):\n",
    "        return qt.tunneling(2*self.N+1)\n",
    "    \n",
    "    def charge(self):\n",
    "        return qt.charge(self.N)"
   ]
  },
  {
   "cell_type": "markdown",
   "metadata": {
    "deletable": false,
    "editable": false,
    "nbgrader": {
     "cell_type": "markdown",
     "checksum": "bd7dac8521a4cef79178ab2955ce7e56",
     "grade": false,
     "grade_id": "cell-2f5983ce4057d30f",
     "locked": true,
     "points": 2,
     "schema_version": 3,
     "solution": false,
     "task": true
    }
   },
   "source": [
    "<b>Problem 1.1 (2.0 points)</b> Construct the hamiltonian of transmon with drive using qutip, solve the evolution problem and plot the corresponding values. The qubit and drive parameters are given below."
   ]
  },
  {
   "cell_type": "code",
   "execution_count": null,
   "metadata": {
    "deletable": false,
    "nbgrader": {
     "cell_type": "code",
     "checksum": "40a771a7236a75acf556c7638ff9146a",
     "grade": false,
     "grade_id": "cell-58cf22d964cd9a98",
     "locked": false,
     "schema_version": 3,
     "solution": true,
     "task": false
    }
   },
   "outputs": [],
   "source": [
    "def TransmonQubit(q: Qubit, phi_ext=np.pi):\n",
    "    \"\"\"Returns transmon qubit Hamiltonian\n",
    "    \n",
    "    Args:\n",
    "        q (Qubit): qubit parameters\n",
    "        phi_ext (float): external flux (phase)\n",
    "        \n",
    "    Returns:\n",
    "        qobj: transmon qubit hamiltonian in the charge basis\n",
    "             \n",
    "    \"\"\"\n",
    "    \n",
    "    # YOUR CODE HERE\n",
    "\n",
    "    return Htr"
   ]
  },
  {
   "cell_type": "code",
   "execution_count": null,
   "metadata": {
    "deletable": false,
    "nbgrader": {
     "cell_type": "code",
     "checksum": "62c5da08f48a8edf495a82c458d1b353",
     "grade": false,
     "grade_id": "cell-1ac995975ab1b6ab",
     "locked": false,
     "schema_version": 3,
     "solution": true,
     "task": false
    }
   },
   "outputs": [],
   "source": [
    "def Drive(q: Qubit):\n",
    "    \"\"\"Return drive Hamiltonian without time dependence\n",
    "    \n",
    "    Args:\n",
    "        alpha (float): drive amplitude\n",
    "\n",
    "    \"\"\"\n",
    "\n",
    "    # YOUR CODE HERE\n",
    "    \n",
    "    return Hd"
   ]
  },
  {
   "cell_type": "markdown",
   "metadata": {},
   "source": [
    "Lets plot the time evolution of ground state under the given drive"
   ]
  },
  {
   "cell_type": "code",
   "execution_count": null,
   "metadata": {},
   "outputs": [],
   "source": [
    "q = Qubit(Ec=1, Esum=50, d=0.7, alpha=20, omega=20, N=30)\n",
    "Htr = TransmonQubit(q)\n",
    "Hd = Drive(q)\n",
    "times = np.linspace(0, 1, 1000)\n",
    "eigenstates = Htr.eigenstates()\n",
    "ground_state = eigenstates[1][0]\n",
    "Heff = [Htr, [Hd, 'np.sin(w*t)']]\n",
    "result = qt.mesolve([Htr, [Hd, 'np.sin(w*t)']], ground_state,\n",
    "                    times, [], [q.charge()], args= {'w': q.omega},\n",
    "                    options=qt.Options(nsteps=1e5, store_states=True))\n",
    "\n",
    "# if you catch a local variable 'e' referenced before assignment error, \n",
    "# unfortunately, you need to restart the jupyter kernel in order\n",
    "# to make it work again"
   ]
  },
  {
   "cell_type": "code",
   "execution_count": null,
   "metadata": {},
   "outputs": [],
   "source": [
    "plt.figure(figsize=(15, 4))\n",
    "plt.subplot(1, 2, 1)\n",
    "PlotStateDynamics(result, ground_state)\n",
    "plt.subplot(1, 2, 2)\n",
    "PlotExpectationDynamics(result)"
   ]
  },
  {
   "cell_type": "code",
   "execution_count": null,
   "metadata": {},
   "outputs": [],
   "source": [
    "# You can move the slider to change the time. Alternatively, you can\n",
    "# click on slider and use left < and right > keyboard buttons\n",
    "PlotStatesDistriubtion(result, eigenstates, num=10)"
   ]
  },
  {
   "cell_type": "markdown",
   "metadata": {},
   "source": [
    "In order to simplify the calculations, we can use the approximation for $\\cos \\phi$:\n",
    "$$\\hat{H}_\\text{tr} = E_c \\hat{n}^2 - E_J \\left(1 - \\frac12 \\hat{\\phi}^2 + \\frac{1}{24} \\hat{\\phi}^4 \\right)$$\n",
    "Further we use creation and annihilation operators:\n",
    "$$\\hat{n} = i\\left( \\frac{E_J}{8E_C} \\right)^{1/4} (\\hat{a}^\\dagger - \\hat{a}),\\quad \\hat{\\phi} = \\left( \\frac{E_C}{2E_J} \\right)^{1/4} (\\hat{a}^\\dagger + \\hat{a}),$$\n",
    "for which holds the commutation relationship $[\\hat{a}, \\hat{a}^\\dagger] = 1$.\n",
    "\n",
    "After substitution we get:\n",
    "$$\\hat{H}_\\text{tr} = -\\sqrt{\\frac{E_C E_J}{8}} (\\hat{a}^\\dagger - \\hat{a})^2 - \\left(E_J - \\sqrt{\\frac{E_C E_J}{8}} (a^\\dagger+\\hat{a})^2 + \\frac{E_C}{48} (\\hat{a}^\\dagger + \\hat{a})^4\\right) = $$\n",
    "$$=\\sqrt{\\frac{E_C E_J}{2}} (\\hat{a}^\\dagger \\hat{a} + \\hat{a} \\hat{a}^\\dagger) - E_J - \\frac{E_C}{48} (\\hat{a}^\\dagger + \\hat{a})^4 = \\sqrt{2E_C E_J} \\left(\\hat{a}^\\dagger \\hat{a} + \\frac12 \\right) - E_J - \\frac{E_C}{48} (\\hat{a}^\\dagger + \\hat{a})^4$$"
   ]
  },
  {
   "cell_type": "markdown",
   "metadata": {},
   "source": [
    "We drop the terms with unequal numbers of $\\hat{a}$ and $\\hat{a}^\\dagger$:\n",
    "$$\\hat{H}_\\text{tr} = \\sqrt{2E_C E_J} \\left(\\hat{a}^\\dagger \\hat{a} + \\frac12 \\right) - E_J - \\frac{E_C}{48} (\\hat{a}\\hat{a}\\hat{a}^\\dagger\\hat{a}^\\dagger + \\hat{a}^\\dagger\\hat{a}^\\dagger\\hat{a}\\hat{a} + \\hat{a}\\hat{a}^\\dagger\\hat{a}\\hat{a}^\\dagger + \\hat{a}^\\dagger\\hat{a}\\hat{a}^\\dagger\\hat{a} + \\hat{a}^\\dagger\\hat{a}\\hat{a}\\hat{a}^\\dagger + \\hat{a}\\hat{a}^\\dagger\\hat{a}^\\dagger\\hat{a}) = $$\n",
    "$$=\\sqrt{2E_C E_J} \\left(\\hat{a}^\\dagger \\hat{a} + \\frac12 \\right) - \\frac{E_C}{8} (\\hat{a}^\\dagger\\hat{a}\\hat{a}^\\dagger\\hat{a} + \\hat{a}^\\dagger\\hat{a}) - E_J - \\frac{E_C}{16}.$$"
   ]
  },
  {
   "cell_type": "markdown",
   "metadata": {},
   "source": [
    "If we apply the <a href=\"https://en.wikipedia.org/wiki/Unitary_transformation_(quantum_mechanics)\">unitary transformation</a> with operator $\\hat{U}$:\n",
    "$$\\hat{U} = \\exp(-i\\omega t \\hat{a}^\\dagger a)$$\n",
    "the hamiltonian transforms into:\n",
    "$$\\hat{H} \\to \\hat{H}_\\text{tr} + i\\alpha \\left( \\frac{E_j}{8E_c} \\right)^{1/4} \\sin \\omega t \\hat{U}^\\dagger (\\hat{a}^\\dagger - \\hat{a}) \\hat{U} - \\omega \\hat{a}^\\dagger \\hat{a}$$"
   ]
  },
  {
   "cell_type": "markdown",
   "metadata": {
    "deletable": false,
    "editable": false,
    "nbgrader": {
     "cell_type": "markdown",
     "checksum": "b5301e4ad24da2ce45f36f9ced3e409f",
     "grade": false,
     "grade_id": "cell-b431901059be32a1",
     "locked": true,
     "points": 3,
     "schema_version": 3,
     "solution": false,
     "task": true
    }
   },
   "source": [
    "<b>Problem 1.2 (3.0 points)</b> Show that\n",
    "$$\\hat{U}^\\dagger (\\hat{a}^\\dagger - \\hat{a}) \\hat{U} = \\exp(i\\omega t) \\hat{a}^\\dagger - \\exp(-i\\omega t)\\hat{a}$$"
   ]
  },
  {
   "cell_type": "markdown",
   "metadata": {},
   "source": [
    "<b>Solution</b>"
   ]
  },
  {
   "cell_type": "markdown",
   "metadata": {},
   "source": [
    "Writing the sine in exponential form and getting rid of fast rotating terms we get:\n",
    "$$\\hat{H} \\to \\hat{H}_\\text{tr} + i\\alpha \\left( \\frac{E_j}{8E_c} \\right)^{1/4} \\sin \\omega t (\\exp(i\\omega t)\\hat{a}^\\dagger - \\exp(-i\\omega t) \\hat{a})- \\omega \\hat{a}^\\dagger \\hat{a} = $$\n",
    "$$= \\hat{H}_\\text{tr} + \\frac{\\alpha}{2} \\left( \\frac{E_j}{8E_c} \\right)^{1/4} (\\exp(i\\omega t) - \\exp(-i\\omega t))(\\exp(i\\omega t)\\hat{a}^\\dagger - \\exp(-i\\omega t) \\hat{a}) - \\omega \\hat{a}^\\dagger \\hat{a} = $$\n",
    "$$= \\hat{H}_\\text{tr} - \\frac{\\alpha}{2} \\left( \\frac{E_j}{8E_c} \\right)^{1/4} (\\hat{a}^\\dagger + \\hat{a}) - \\omega \\hat{a}^\\dagger \\hat{a}.$$\n",
    "Now the hamiltonian is time-independent, so we can simulate the system by applying evolution operator $\\exp(-i\\hat{H}t)$."
   ]
  },
  {
   "cell_type": "markdown",
   "metadata": {
    "deletable": false,
    "editable": false,
    "nbgrader": {
     "cell_type": "markdown",
     "checksum": "f243b69c29187b4dc728f83abe9c277d",
     "grade": false,
     "grade_id": "cell-bbf0f179502b861f",
     "locked": true,
     "points": 4,
     "schema_version": 3,
     "solution": false,
     "task": true
    }
   },
   "source": [
    "<b>Problem 1.3 (4.0 points)</b> Write the hamiltonians of transmon and drive using rotating wave approximation. Write a function which simulates evolution of the wave function. Don't forget to transform the wave function back to the original frame of reference. Compare your results with the exact simulation. The use of qutip mesolve in this part is prohibited."
   ]
  },
  {
   "cell_type": "code",
   "execution_count": null,
   "metadata": {
    "deletable": false,
    "nbgrader": {
     "cell_type": "code",
     "checksum": "d111840c1ecfb9e1f38fe2d88b39ffeb",
     "grade": false,
     "grade_id": "cell-9f9fe745f35f69e6",
     "locked": false,
     "schema_version": 3,
     "solution": true,
     "task": false
    }
   },
   "outputs": [],
   "source": [
    "def TransmonQubitRWA(q: Qubit, phi_ext=np.pi):\n",
    "    \"\"\"Return transmon qubit Hamiltonian in RWA\n",
    "    \n",
    "    Args:\n",
    "        q (Qubit): qubit parameters\n",
    "        phi_ext (float): external flux (phase)\n",
    "        \n",
    "    Returns:\n",
    "        qobj: transmon qubit hamiltonian in RWA\n",
    "             \n",
    "    \"\"\"\n",
    "\n",
    "    # YOUR CODE HERE\n",
    "\n",
    "    return Htr"
   ]
  },
  {
   "cell_type": "code",
   "execution_count": null,
   "metadata": {
    "deletable": false,
    "nbgrader": {
     "cell_type": "code",
     "checksum": "2cb8223faef2061ed6f620d65ed13ce2",
     "grade": false,
     "grade_id": "cell-bb3d1188adfaced9",
     "locked": false,
     "schema_version": 3,
     "solution": true,
     "task": false
    }
   },
   "outputs": [],
   "source": [
    "def DriveRWA(q: Qubit, phi_ext=np.pi):\n",
    "    \"\"\"Return drive Hamiltonian in RWA\n",
    "    \n",
    "    Args:\n",
    "        q (Qubit): qubit parameters\n",
    "        phi_ext (float): external flux (phase)\n",
    "        \n",
    "    Returns:\n",
    "        qobj: drive hamiltonian in RWA \n",
    "\n",
    "    \"\"\"\n",
    "\n",
    "    # YOUR CODE HERE\n",
    "\n",
    "    return Hd"
   ]
  },
  {
   "cell_type": "code",
   "execution_count": null,
   "metadata": {
    "deletable": false,
    "nbgrader": {
     "cell_type": "code",
     "checksum": "31394e3fba30d2c528d6f53e5c80a3d1",
     "grade": false,
     "grade_id": "cell-836c86e42c9f4a4d",
     "locked": false,
     "schema_version": 3,
     "solution": true,
     "task": false
    }
   },
   "outputs": [],
   "source": [
    "def EvolutionSolver(H, initial_state, S, e_ops, times):\n",
    "    \"\"\"Given the initial state returns the states of the system \n",
    "        at provided times and their expectation values\n",
    "        \n",
    "    Args:\n",
    "        H (qobj): hamiltonian of a system\n",
    "        S (qobj): auxiliary operator. Unitary operator which we've used for \n",
    "            transformation is U = exp(-i*S*t)\n",
    "        initial_state: (qobj): initial state of a system\n",
    "        e_ops (array of qobj): array of operators to evalute the expectations \n",
    "            at evolved states\n",
    "        times (array): times for system evolution\n",
    "        \n",
    "    Returns:\n",
    "        result: an object similar to the result of qutip mesolve. It should contain:\n",
    "\n",
    "            states (array): array of states corresponding \n",
    "                to the given times\n",
    "            expect (array): list of expectation values of provided operators\n",
    "            times: (array): the times given to the solver\n",
    "            \n",
    "    .. hints::\n",
    "\n",
    "        You can use obj.expm() from qutip to calculate matrix exponent\n",
    "        Also, don't forget that exp(A)exp(B) is not always equal to exp(A+B)\n",
    "\n",
    "    \"\"\"\n",
    "    \n",
    "    # YOUR CODE HERE\n",
    "\n",
    "    return type(\"\",(),{\"states\": states,\n",
    "                       \"expect\": [qt.expect(op, states) for op in e_ops],\n",
    "                       \"times\": times})()"
   ]
  },
  {
   "cell_type": "code",
   "execution_count": null,
   "metadata": {},
   "outputs": [],
   "source": [
    "times = np.linspace(0, 1, 1000)\n",
    "Htr_rwa = TransmonQubitRWA(q)\n",
    "Hd_rwa = DriveRWA(q)\n",
    "\n",
    "# Note: here we write a charge operator in the energy basis\n",
    "charge_rwa = 1j*(q.get_Ej(np.pi)/(8*q.Ec))**0.25*(q.create()-q.destroy())\n",
    "S = q.omega*q.num()\n",
    "\n",
    "eigenstates_rwa = Htr_rwa.eigenstates()\n",
    "ground_state_rwa = eigenstates_rwa[1][0]\n",
    "result_rwa = EvolutionSolver(Htr_rwa + Hd_rwa, ground_state_rwa, S, [charge_rwa], times)"
   ]
  },
  {
   "cell_type": "markdown",
   "metadata": {},
   "source": [
    "Lets compare the results with exact solution (don't worry if the match is not really accurate):"
   ]
  },
  {
   "cell_type": "code",
   "execution_count": null,
   "metadata": {},
   "outputs": [],
   "source": [
    "plt.figure(figsize=(15, 4))\n",
    "plt.subplot(1, 2, 1)\n",
    "PlotStateDynamics(result_rwa, ground_state_rwa, label=\"RWA\")\n",
    "PlotStateDynamics(result, ground_state, label=\"exact\")\n",
    "plt.legend();\n",
    "plt.subplot(1, 2, 2)\n",
    "PlotExpectationDynamics(result_rwa, label=\"RWA\")\n",
    "PlotExpectationDynamics(result, label=\"exact\")\n",
    "plt.legend();"
   ]
  },
  {
   "cell_type": "code",
   "execution_count": null,
   "metadata": {},
   "outputs": [],
   "source": [
    "PlotStatesDistriubtion(result_rwa, eigenstates_rwa, num=10)"
   ]
  },
  {
   "cell_type": "markdown",
   "metadata": {},
   "source": [
    "## Part 2. A system of two transmons"
   ]
  },
  {
   "cell_type": "markdown",
   "metadata": {},
   "source": [
    "A Hamiltonian for a system of two transmons with the drive can be written as:\n",
    "$$\\hat{H} = \\hat{H}_\\text{tr}^{(1)} + \\hat{H}_\\text{tr}^{(2)} + \\hat{H}_\\text{int} + \\hat{H}_\\text{d},$$\n",
    "\n",
    "where $\\hat{H}_\\text{tr}$, $\\hat{H}_\\text{d}$ are transmon and drive hamiltonians and $\\hat{H}_\\text{int}$ represents an interaction between transmons.\n",
    "\n",
    "We have already defined the operators for transmons in the previous part. The interaction term can be written as:\n",
    "\n",
    "$$\\hat{H}_\\text{int} = J \\hat{n}_1 \\hat{n}_2.$$\n",
    "\n",
    "The drive hamiltonian should also be modified to act on two qubits resulting in:\n",
    "\n",
    "$$\\hat{H}_\\text{d} = \\alpha (\\hat{n}_1 + \\hat{n}_2) \\sin \\omega t.$$"
   ]
  },
  {
   "cell_type": "markdown",
   "metadata": {},
   "source": [
    "If we apply the unitary transformation with a modified operator:\n",
    "$$\\hat{U} = \\exp(-i\\omega t (\\hat{a}_1^\\dagger \\hat{a}_1 + \\hat{a}_2^\\dagger \\hat{a}_2)$$\n",
    "the hamiltonian transforms into\n",
    "$$\\hat{H} \\to \\hat{H}_\\text{tr}^{(1)} + \\hat{H}_\\text{tr}^{(2)} + \\hat{U}^\\dagger \\hat{H}_\\text{int} \\hat{U} + \\hat{U}^\\dagger \\hat{H}_\\text{d} \\hat{U} = $$\n",
    "\n",
    "$$ = \\hat{H}_\\text{tr}^{(1)} + \\hat{H}_\\text{tr}^{(2)} + \\hat{U}^\\dagger \\hat{H}_\\text{int} \\hat{U} + \\frac{\\alpha}{2} \\left\\{ \\left( \\frac{E^{(1)}_J}{8E^{(1)}_C} \\right)^{1/4} (\\hat{a}_1^\\dagger + \\hat{a}_1) + \\left( \\frac{E^{(2)}_J}{8E^{(2)}_C} \\right)^{1/4} (\\hat{a}_2^\\dagger + \\hat{a}_2) \\right\\} - \\omega (\\hat{a}_1^\\dagger \\hat{a}_1 + \\hat{a}_2^\\dagger \\hat{a}_2).$$"
   ]
  },
  {
   "cell_type": "markdown",
   "metadata": {
    "deletable": false,
    "editable": false,
    "nbgrader": {
     "cell_type": "markdown",
     "checksum": "9b517feb76ebfe102fc2d152affdf5a2",
     "grade": false,
     "grade_id": "cell-08eeac6dc97385a8",
     "locked": true,
     "points": 2,
     "schema_version": 3,
     "solution": false,
     "task": true
    }
   },
   "source": [
    "<b>Problem 2.1 (2.0 points)</b> Derive the expression for $\\hat{U}^\\dagger \\hat{H}_\\text{int} \\hat{U}$ under rotating wave approximation."
   ]
  },
  {
   "cell_type": "markdown",
   "metadata": {},
   "source": [
    "<b>Solution</b>"
   ]
  },
  {
   "cell_type": "markdown",
   "metadata": {
    "deletable": false,
    "editable": false,
    "nbgrader": {
     "cell_type": "markdown",
     "checksum": "3c148afe1e8d2afb6ec68daad5bf8c54",
     "grade": false,
     "grade_id": "cell-79ea76d21612810e",
     "locked": true,
     "points": 4,
     "schema_version": 3,
     "solution": false,
     "task": true
    }
   },
   "source": [
    "<b>Problem 2.2 (4.0 points)</b> Plot the energy levels of a system of two transmon qubits as a function of the coupling parameter $J$. Qubits parameters are given below. Note, that $\\phi_\\text{ext}$ has different signs for qubits."
   ]
  },
  {
   "cell_type": "code",
   "execution_count": null,
   "metadata": {
    "deletable": false,
    "nbgrader": {
     "cell_type": "code",
     "checksum": "4d5cc96510a64e4d87edc0fec6809d85",
     "grade": false,
     "grade_id": "cell-046478a1c759a3e6",
     "locked": false,
     "schema_version": 3,
     "solution": true,
     "task": false
    }
   },
   "outputs": [],
   "source": [
    "def TwoTransmonQubitsRWA(q1: Qubit, q2: Qubit, J, phi_ext=np.pi):\n",
    "    \"\"\"Returns Hamiltonian of two transmons with interaction in RWA\n",
    "    \n",
    "    Args:\n",
    "        q1 (Qubit): qubit 1 parameters\n",
    "        q2 (Qubit): qubit 2 parameters\n",
    "        J (float): interaction coefficient between qubits 1 and 2\n",
    "        phi_ext (float): external flux (phase)\n",
    "        \n",
    "    Returns:\n",
    "        qobj: hamiltonian of two transmon qubits in RWA\n",
    "             \n",
    "    \"\"\"\n",
    "\n",
    "    # YOUR CODE HERE\n",
    "\n",
    "    return Htr + Hint"
   ]
  },
  {
   "cell_type": "code",
   "execution_count": null,
   "metadata": {
    "deletable": false,
    "nbgrader": {
     "cell_type": "code",
     "checksum": "c2e266e2e1299289b5266b91785de5f1",
     "grade": false,
     "grade_id": "cell-85d84a4cb64c25dd",
     "locked": false,
     "schema_version": 3,
     "solution": true,
     "task": false
    }
   },
   "outputs": [],
   "source": [
    "def TwoTransmonsDriveRWA(q1: Qubit, q2: Qubit, phi_ext=np.pi):\n",
    "    \"\"\"Return drive Hamiltonian in RWA\n",
    "    \n",
    "    Args:\n",
    "        q1 (Qubit): qubit 1 parameters\n",
    "        q2 (Qubit): qubit 2 parameters\n",
    "        phi_ext (float): external flux (phase)\n",
    "\n",
    "    \"\"\"\n",
    "\n",
    "    # YOUR CODE HERE\n",
    "\n",
    "    return Hd"
   ]
  },
  {
   "cell_type": "code",
   "execution_count": null,
   "metadata": {},
   "outputs": [],
   "source": [
    "def PlotTwoTransmonQubitsVals(eigenstates, Js, nfirst=8):\n",
    "    \"\"\"Plots the energy spectrum\n",
    "    \n",
    "    Args:\n",
    "        Js (array): values of coupling parameters\n",
    "        eigenstates (array): qubit eigenstates\n",
    "        nfirst (int): number of energy levels to plot\n",
    "\n",
    "    \"\"\"\n",
    "\n",
    "    plt.xlabel(r\"$J$\", fontsize=12)\n",
    "    plt.ylabel(r\"Energy, $E$\", fontsize=12)\n",
    "    for state in eigenstates[:, 0, :nfirst].T:\n",
    "        plt.plot(Js, state)"
   ]
  },
  {
   "cell_type": "code",
   "execution_count": null,
   "metadata": {},
   "outputs": [],
   "source": [
    "q1 = Qubit(Esum=50, d=0.7, Ec=1, alpha=20, omega=20, N=10)\n",
    "q2 = Qubit(Esum=50, d=0.7, Ec=1, alpha=20, omega=20, N=10)"
   ]
  },
  {
   "cell_type": "code",
   "execution_count": null,
   "metadata": {},
   "outputs": [],
   "source": [
    "Js = np.linspace(0, 2, 100)\n",
    "eigenstates = np.array([(TwoTransmonsQubitRWA(q1, q2, J=J_, phi_ext=np.pi) + \\\n",
    "                         TwoTransmonsDriveRWA(q1, q2, phi_ext=np.pi)).eigenstates()\n",
    "                         for J_ in Js])"
   ]
  },
  {
   "cell_type": "code",
   "execution_count": null,
   "metadata": {},
   "outputs": [],
   "source": [
    "PlotTwoTransmonQubitsVals(eigenstates, Js)"
   ]
  }
 ],
 "metadata": {
  "kernelspec": {
   "display_name": "Python 3",
   "language": "python",
   "name": "python3"
  },
  "language_info": {
   "codemirror_mode": {
    "name": "ipython",
    "version": 3
   },
   "file_extension": ".py",
   "mimetype": "text/x-python",
   "name": "python",
   "nbconvert_exporter": "python",
   "pygments_lexer": "ipython3",
   "version": "3.7.4"
  },
  "toc": {
   "base_numbering": 1,
   "nav_menu": {},
   "number_sections": true,
   "sideBar": true,
   "skip_h1_title": false,
   "title_cell": "Table of Contents",
   "title_sidebar": "Contents",
   "toc_cell": false,
   "toc_position": {},
   "toc_section_display": true,
   "toc_window_display": false
  }
 },
 "nbformat": 4,
 "nbformat_minor": 4
}
